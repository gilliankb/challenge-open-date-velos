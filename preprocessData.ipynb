{
 "cells": [
  {
   "cell_type": "code",
   "execution_count": null,
   "id": "ddfb0fd6-0cd6-4ade-8110-05bec9741210",
   "metadata": {},
   "outputs": [],
   "source": [
    "import pandas as pd\n",
    "import datetime as dt\n",
    "import matplotlib.pyplot as plt"
   ]
  },
  {
   "cell_type": "markdown",
   "id": "13e9fbd7-2437-4122-9e9d-9a0ba1c64413",
   "metadata": {
    "jp-MarkdownHeadingCollapsed": true,
    "tags": []
   },
   "source": [
    "### Import df"
   ]
  },
  {
   "cell_type": "code",
   "execution_count": null,
   "id": "b759b6d0-8301-4ee1-a8a4-acb8f610e122",
   "metadata": {
    "scrolled": true,
    "tags": []
   },
   "outputs": [],
   "source": [
    "df_velos = pd.read_csv(\"data/accidents-velos.csv\", index_col=0)\n",
    "df_velos.date = pd.to_datetime(df_velos.date)\n",
    "\n",
    "YEAR = 2021\n",
    "\n",
    "df_carac = {}\n",
    "df_lieux = {}\n",
    "df_usagers = {}\n",
    "df_vehicules = {}\n",
    "for YEAR in [2019, 2020, 2021]:\n",
    "    df_carac[YEAR] = pd.read_csv(f\"data/data_accidents/caracteristiques-{YEAR}.csv\", index_col=0, sep=\";\")\n",
    "    df_lieux[YEAR] = pd.read_csv(f\"data/data_accidents/lieux-{YEAR}.csv\", index_col=0, sep=\";\")\n",
    "    df_usagers[YEAR] = pd.read_csv(f\"data/data_accidents/usagers-{YEAR}.csv\", index_col=0, sep=\";\")\n",
    "    df_vehicules[YEAR] = pd.read_csv(f\"data/data_accidents/vehicules-{YEAR}.csv\", index_col=0, sep=\";\")"
   ]
  },
  {
   "cell_type": "markdown",
   "id": "11d1375f-c26f-4335-ae02-f546f2fa3e00",
   "metadata": {
    "jp-MarkdownHeadingCollapsed": true,
    "tags": []
   },
   "source": [
    "### Map dataname"
   ]
  },
  {
   "cell_type": "code",
   "execution_count": null,
   "id": "2c397628-1881-4386-b840-97d0ca93f193",
   "metadata": {},
   "outputs": [],
   "source": [
    "MAPPING_SITUATION = {\n",
    "    -1: \"Non renseigné\",\n",
    "    0: \"Aucun\",\n",
    "    1: \"Sur chaussée\",\n",
    "    2: \"Sur bande d’arrêt d’urgence\",\n",
    "    3: \"Sur accotement\",\n",
    "    4: \"Sur trottoir\",\n",
    "    5: \"Sur piste cyclable\",\n",
    "    6: \"Sur autre voie spéciale\",\n",
    "    8: \"Autres\",\n",
    "}\n",
    "\n",
    "MAPPING_VEHICULES = {\n",
    "    -1: 'Intéderminable',\n",
    "    0: 'Indéterminable',\n",
    "    1: 'Bicyclette',\n",
    "    2: 'Cyclomoteur <50cm3',\n",
    "    3: 'Voiturette (Quadricycle à moteur carrossé) (anciennement \"voiturette ou tricycle à moteur\")',\n",
    "    4: 'Référence inutilisée depuis 2006 (scooter immatriculé)',\n",
    "    5: 'Référence inutilisée depuis 2006 (motocyclette)',\n",
    "    6: 'Référence inutilisée depuis 2006 (side-car)',\n",
    "    7: 'VL seul',\n",
    "    8: 'Référence inutilisée depuis 2006 (VL + caravane)',\n",
    "    9: 'Référence inutilisée depuis 2006 (VL + remorque)',\n",
    "    10: 'VU seul 1,5T <= PTAC <= 3,5T avec ou sans remorque (anciennement VU seul 1,5T <= PTAC',\n",
    "    11: 'Référence inutilisée depuis 2006 (VU (10) + caravane)',\n",
    "    12: 'Référence inutilisée depuis 2006 (VU (10) + remorque)',\n",
    "    13: 'PL seul 3,5T <PTCA <= 7,5T',\n",
    "    14: 'PL seul > 7,5T',\n",
    "    15: 'PL > 3,5T + remorque',\n",
    "    16: 'Tracteur routier seul',\n",
    "    17: 'Tracteur routier + semi-remorque',\n",
    "    18: 'Référence inutilisée depuis 2006 (transport en commun)',\n",
    "    19: 'Référence inutilisée depuis 2006 (tramway)',\n",
    "    20: 'Engin spécial',\n",
    "    21: 'Tracteur agricole',\n",
    "    30: 'Scooter < 50 cm3',\n",
    "    31: 'Motocyclette > 50 cm3 et <= 125 cm3',\n",
    "    32: 'Scooter > 50 cm3 et <= 125 cm3',\n",
    "    33: 'Motocyclette > 125 cm3',\n",
    "    34: 'Scooter > 125 cm3',\n",
    "    35: 'Quad léger <= 50 cm3 (Quadricycle à moteur non carrossé)',\n",
    "    36: 'Quad lourd > 50 cm3 (Quadricycle à moteur non carrossé)',\n",
    "    37: 'Autobus',\n",
    "    38: 'Autocar',\n",
    "    39: 'Train',\n",
    "    40: 'Tramway',\n",
    "    41: '3RM <= 50 cm3',\n",
    "    42: '3RM > 50 cm3 <= 125 cm3',\n",
    "    43: '3RM > 125 cm3',\n",
    "    50: 'EDP à moteur',\n",
    "    60: 'EDP sans moteur',\n",
    "    80: 'VAE',\n",
    "    99: 'Autre véhicule',\n",
    "}\n",
    "\n",
    "MAPPING_INTERSECTION = {\n",
    "    -1: \"Indéterminé\",\n",
    "    1: \"Hors intersection\",\n",
    "    2: \"Intersection en X\",\n",
    "    3: \"Intersection en T\",\n",
    "    4: \"Intersection en Y\",\n",
    "    5: \"Intersection à plus de 4 branches \",\n",
    "    6: \"Giratoire\",\n",
    "    7: \"Place\",\n",
    "    8: \"Passage à niveau\",\n",
    "    9: \"Autre intersection\",\n",
    "}\n",
    "\n",
    "MAPPING_ATM = {\n",
    "    -1: \"Non renseigné\",\n",
    "    1: \"Normale\",\n",
    "    2: \"Pluie légère\",\n",
    "    3: \"Pluie forte \",\n",
    "    4: \"Neige - grêle\",\n",
    "    5: \"Brouillard - fumée \",\n",
    "    6: \"Vent fort tempête \",\n",
    "    7: \"Temps éblouissant \",\n",
    "    8: \"Temps couvert \",\n",
    "    9: \"Autre\",\n",
    "}\n",
    "\n",
    "MAPPING_COLLISION = {\n",
    "    -1: \"Non renseigné\",\n",
    "    1: \"Deux véhicules - frontale\",\n",
    "    2: \"Deux véhicules – par l’arrière\",\n",
    "    3: \"Deux véhicules – par le coté\",\n",
    "    4: \"Trois véhicules et plus – en chaîne\",\n",
    "    5: \"Trois véhicules et plus - collisions multiples\",\n",
    "    6: \"Autre collision\",\n",
    "    7: \"Sans collision\",\n",
    "}\n",
    "\n",
    "MAPPING_LUM = {\n",
    "    -1: \"Non renseigné\",\n",
    "    1: \"Plein jour\",\n",
    "    2: \"Crépuscule ou aube\",\n",
    "    3: \"Nuit sans éclairage public\",\n",
    "    4: \"Nuit avec éclairage public non allumé\",\n",
    "    5: \"Nuit avec éclairage public allumé\",\n",
    "}\n",
    "\n",
    "MAPPING_CATR = {\n",
    "    1: \"Autoroute\",\n",
    "    2: \"Route nationale\",\n",
    "    3: \"Route Départementale \",\n",
    "    4: \"Voie Communales\",\n",
    "    5: \"Hors réseau public\",\n",
    "    6: \"Parc de stationnement ouvert à la circulation publique \",\n",
    "    7: \"Routes de métropole urbaine\",\n",
    "    9: \"autre\",\n",
    "}\n",
    "\n",
    "MAPPING_CIRC = {\n",
    "    -1: \"Non renseigné\",\n",
    "    1: \"A sens unique\",\n",
    "    2: \"Bidirectionnelle\",\n",
    "    3: \"A chaussées séparées\",\n",
    "    4: \"Avec voies d’affectation variable\",\n",
    "}\n",
    "\n",
    "MAPPING_VOIE_ADAPTE = {\n",
    "    -1: \"Non renseigné\",\n",
    "    0 : \"Sans objet\",\n",
    "    1 : \"Piste cyclable \",\n",
    "    2 : \"Bande cyclable \",\n",
    "    3 : \"Voie réservée\",\n",
    "}\n",
    "\n",
    "MAPPING_PROFIL_ROUTE = {\n",
    "-1: \"Non renseigné\",\n",
    "1 : \"Plat\",\n",
    "2 : \"Pente\",\n",
    "3 : \"Sommet de côte \",\n",
    "4 : \"Bas de côte\",\n",
    "}\n",
    "\n",
    "MAPPING_PLAN = {\n",
    "-1: \"Non renseigné\",\n",
    "1 : \"Partie rectiligne\",\n",
    "2 : \"En courbe à gauche \",\n",
    "3 : \"En courbe à droite \",\n",
    "4 : \"En « S »\",\n",
    "}\n",
    "\n",
    "MAPPING_ETAT_SURFACE = {\n",
    "    -1: \"Non renseigné \",\n",
    "    1 : \"Normale\",\n",
    "    2 : \"Mouillée\",\n",
    "    3 : \"Flaques \",\n",
    "    4 : \"Inondée \",\n",
    "    5 : \"Enneigée \",\n",
    "    6 : \"Boue\",\n",
    "    7 : \"Verglacée\",\n",
    "    8 : \"Corps gras – huile \",\n",
    "    9 : \"Autre\",\n",
    "}\n",
    "\n",
    "MAPPING_AMEMAGEMENT = {\n",
    "    -1: \"Non renseigné\",\n",
    "    0 : \"Aucun\",\n",
    "    1 : \"Souterrain - tunnel\",\n",
    "    2 : \"Pont - autopont\",\n",
    "    3 : \"Bretelle d’échangeur ou de raccordement \",\n",
    "    4 : \"Voie ferrée\",\n",
    "    5 : \"Carrefour aménagé\",\n",
    "    6 : \"Zone piétonne\",\n",
    "    7 : \"Zone de péage\",\n",
    "    8 : \"Chantier\",\n",
    "    9 : \"Autres\",\n",
    "}\n",
    "\n",
    "MAPPING_USAGER = {\n",
    "1: \"Conducteur\",\n",
    "2: \"Passager\",\n",
    "3: \"Piéton\",\n",
    "}\n",
    "\n",
    "MAPPING_GRAV_USAGER = {\n",
    "-1: \"Non renseigné\",\n",
    "1: \"Indemne\",\n",
    "2: \"Tué\",\n",
    "3: \"Blessé hospitalisé \",\n",
    "4: \"Blessé léger\",\n",
    "}\n",
    "MAPPING_SEXE = {\n",
    "-1: \"Non renseigné\",\n",
    "1: \"Masculin\",\n",
    "2: \"Féminin\",\n",
    "}\n",
    "\n",
    "MAPPING_TRAJET = {\n",
    "-1: \"Non renseigné\",\n",
    "0 : \"Non renseigné\",\n",
    "1 : \"Domicile – travail\",\n",
    "2 : \"Domicile – école\",\n",
    "3 : \"Courses – achats\",\n",
    "4 : \"Utilisation professionnelle \",\n",
    "5 : \"Promenade – loisirs\",\n",
    "9 : \"Autre\",\n",
    "}\n",
    "\n",
    "MAPPING_SECU = {\n",
    "-1: \"Non renseigné\",\n",
    "0 : \"Aucun équipement\",\n",
    "1 : \"Ceinture\",\n",
    "2 : \"Casque\",\n",
    "3 : \"Dispositif enfants\",\n",
    "4 : \"Gilet réfléchissant\",\n",
    "5 : \"Airbag (2RM/3RM)\",\n",
    "6 : \"Gants (2RM/3RM)\",\n",
    "7 : \"Gants + Airbag (2RM/3RM) \",\n",
    "8 : \"Non déterminable\",\n",
    "9 : \"Autre\",\n",
    "}\n",
    "\n",
    "MAPPING_USAGE_SECU = {\n",
    "-1: \"Non renseigné\",\n",
    "0 : \"Non\",\n",
    "}\n",
    "\n",
    "MAPPING_OBS = {\n",
    "    -1: \"Non renseigné\",\n",
    "    0 : \"Sans objet\",\n",
    "    1 : \"Véhicule en stationnement\",\n",
    "    2 : \"Arbre\",\n",
    "    3 : \"Glissière métallique\",\n",
    "    4 : \"Glissière béton\",\n",
    "    5 : \"Autre glissière\",\n",
    "    6 : \"Bâtiment, mur, pile de pont\",\n",
    "    7 : \"Support de signalisation verticale ou poste d’appel d’urgence\",\n",
    "    8 : \"Poteau\",\n",
    "    9 : \"Mobilier urbain\",\n",
    "    10 : \"Parapet\",\n",
    "    11 : \"Ilot, refuge, borne haute\",\n",
    "    12 : \"Bordure de trottoir\",\n",
    "    13 : \"Fossé, talus, paroi rocheuse\",\n",
    "    14 : \"Autre obstacle fixe sur chaussée\",\n",
    "    15 : \"Autre obstacle fixe sur trottoir ou accotement\",\n",
    "    16 : \"Sortie de chaussée sans obstacle\",\n",
    "    17 : \"Buse – tête d’aqueduc\",\n",
    "}\n",
    "\n",
    "MAPPING_OBSM = {\n",
    "    -1: \"Non renseigné\",\n",
    "    0 : \"Aucun\",\n",
    "    1 : \"Piéton\",\n",
    "    2 : \"Véhicule\",\n",
    "    4 : \"Véhicule sur rail\",\n",
    "    5 : \"Animal domestique \",\n",
    "    6 : \"Animal sauvage\",\n",
    "    9 : \"Autre\",\n",
    "}\n",
    "\n",
    "MAPPING_CHOC = {\n",
    "    -1: \"Non renseigné \",\n",
    "    0 : \"Aucun\",\n",
    "    1 : \"Avant\",\n",
    "    2 : \"Avant droit\",\n",
    "    3 : \"Avant gauche\",\n",
    "    4 : \"Arrière\",\n",
    "    5 : \"Arrière droit\",\n",
    "    6 : \"Arrière gauche\",\n",
    "    7 : \"Côté droit\",\n",
    "    8 : \"Côté gauche\",\n",
    "    9 : \"Chocs multiples (tonneaux)\",\n",
    "}\n",
    "\n",
    "MAPPING_MANOEUVRE = {\n",
    "-1: \"Non renseigné\",\n",
    "0 : \"Inconnue\",\n",
    "1 : \"Sans changement de direction\",\n",
    "2 : \"Même sens, même file\",\n",
    "3 : \"Entre 2 files\",\n",
    "4 : \"En marche arrière\",\n",
    "5 : \"A contresens\",\n",
    "6 : \"En franchissant le terre-plein central\",\n",
    "7 : \"Dans le couloir bus, dans le même sens\",\n",
    "8 : \"Dans le couloir bus, dans le sens inverse\",\n",
    "9 : \"En s’insérant\",\n",
    "10: \"En faisant demi-tour sur la chaussée\",\n",
    "11: \"Changeant de file A gauche\",\n",
    "12: \"Changeant de fileA droite\",\n",
    "13: \"Déporté A gauche\",\n",
    "14: \"Déporté A droite\",\n",
    "15: \"Tournant A gauche\",\n",
    "16: \"Tournant A droite\",\n",
    "17: \"Dépassant A gauche\",\n",
    "18: \"Dépassant A droite\",\n",
    "19: \"Traversant la chaussée\",\n",
    "20: \"Manœuvre de stationnement\",\n",
    "21: \"Manœuvre d’évitement\",\n",
    "22: \"Ouverture de porte\",\n",
    "23: \"Arrêté (hors stationnement)\",\n",
    "24: \"En stationnement (avec occupants)\" ,\n",
    "25: \"Circulant sur trottoir\",\n",
    "26: \"Autres manœuvres\",\n",
    "}"
   ]
  },
  {
   "cell_type": "markdown",
   "id": "b3124f4a-57f2-4f1c-9c50-70784e771b85",
   "metadata": {
    "jp-MarkdownHeadingCollapsed": true,
    "tags": []
   },
   "source": [
    "### Aggregate"
   ]
  },
  {
   "cell_type": "code",
   "execution_count": null,
   "id": "65a3377f-e227-406a-98ee-aba8de6b8d0d",
   "metadata": {},
   "outputs": [],
   "source": [
    "YEAR = 2019\n",
    "\n",
    "CARAC = {\n",
    "    'date': df_carac[YEAR].apply(lambda x: f\"{x.an}-{x.jour}-{x.mois}\", axis=1),\n",
    "    'mois': df_carac[YEAR].mois, \n",
    "    'jour': df_carac[YEAR].jour, \n",
    "    'heure': df_carac[YEAR].hrmn.str[:2], \n",
    "    'departement': df_carac[YEAR].dep, \n",
    "    'commune': df_carac[YEAR].com, \n",
    "    'lat': df_carac[YEAR].lat.str.replace(\",\", \".\").astype(float), \n",
    "    'lon': df_carac[YEAR].long.str.replace(\",\", \".\").astype(float),\n",
    "    'en agglomeration': df_carac[YEAR][\"agg\"] == 1, \n",
    "    'type intersection': df_carac[YEAR].int.apply(lambda x: MAPPING_INTERSECTION[x]), \n",
    "    'type collision': df_carac[YEAR][\"col\"].apply(lambda x: MAPPING_COLLISION[x]), \n",
    "    'luminosite': df_carac[YEAR][\"lum\"].apply(lambda x: MAPPING_LUM[x]),\n",
    "    'adresse': df_carac[YEAR][\"adr\"],\n",
    "    'conditions atmosperiques': df_carac[YEAR].atm.apply(lambda x: MAPPING_ATM[x]),\n",
    "}\n",
    "\n",
    "\n",
    "LIEUX = {\n",
    "    'type route': df_lieux[YEAR].catr.apply(lambda x: MAPPING_CATR[x]), \n",
    "    'n° voie': df_lieux[YEAR].voie,\n",
    "    'circulation': df_lieux[YEAR].circ.apply(lambda x:MAPPING_CIRC[x]), \n",
    "    'nb voies': df_lieux[YEAR].nbv,\n",
    "    'voie adaptee': df_lieux[YEAR].vosp.apply(lambda x: MAPPING_VOIE_ADAPTE[x]),\n",
    "    'profil long route': df_lieux[YEAR].prof.apply(lambda x: MAPPING_PROFIL_ROUTE[x]), \n",
    "    'trace plan route': df_lieux[YEAR].plan.apply(lambda x: MAPPING_PLAN[x]),\n",
    "    'largeur TPC': df_lieux[YEAR].lartpc, \n",
    "    'largeur route': df_lieux[YEAR].larrout,\n",
    "    'etat surface': df_lieux[YEAR].surf.apply(lambda x: MAPPING_ETAT_SURFACE[x]), \n",
    "    'amenagement': df_lieux[YEAR].infra.apply(lambda x: MAPPING_AMEMAGEMENT[x]), \n",
    "    'situation': df_lieux[YEAR].situ.apply(lambda x: MAPPING_SITUATION[x]),\n",
    "    'vitesse max': df_lieux[YEAR].vma\n",
    "}\n",
    "\n",
    "\n",
    "# Mapping usagers\n",
    "USAGERS = {\n",
    "    \"id\": df_usagers[YEAR].id_vehicule,\n",
    "    \"categorie usager\": df_usagers[YEAR][\"catu\"].apply(lambda x: MAPPING_USAGER[x]),\n",
    "    \"gravite accident\": df_usagers[YEAR].grav.apply(lambda x: MAPPING_GRAV_USAGER[x]),\n",
    "    \"sexe\": df_usagers[YEAR].sexe.apply(lambda x: MAPPING_SEXE[x]),\n",
    "    \"age\": df_usagers[YEAR].an_nais - YEAR,\n",
    "    \"motif deplacement\": df_usagers[YEAR].trajet.apply(lambda x: MAPPING_TRAJET[x]),\n",
    "    \"existence securite\": df_usagers[YEAR].secu1.apply(lambda x: MAPPING_SECU[x]),\n",
    "    \"usage securite\": df_usagers[YEAR].secu1.apply(lambda x: MAPPING_USAGE_SECU.get(x, \"Oui\")),\n",
    "}\n",
    "\n",
    "VEHICULE = {\n",
    "    \"id\": df_vehicules[YEAR].id_vehicule,\n",
    "    \"categorie vehicule\": df_vehicules[YEAR].catv.apply(lambda x: MAPPING_VEHICULES[x]),\n",
    "    \"obstacle fixe heurte\": df_vehicules[YEAR].obs.apply(lambda x: MAPPING_OBS[x]),\n",
    "    \"obstacle mobile heurte\": df_vehicules[YEAR].obsm.apply(lambda x: MAPPING_OBSM[x]),\n",
    "    \"localisation choc\": df_vehicules[YEAR].choc.apply(lambda x: MAPPING_CHOC[x]),\n",
    "    \"manoeuvre avant accident\": df_vehicules[YEAR].manv.apply(lambda x: MAPPING_MANOEUVRE[x]),\n",
    "    \"identifiant vehicule\": df_vehicules[YEAR].id_vehicule,\n",
    "    \"type autres vehicules\": \"Indéterminé\",\n",
    "    \"manoeuvre autres vehicules\": \"Indéterminé\",\n",
    "    \"nombre autres vehicule\": \"Indéterminé\",\n",
    "}\n",
    "\n",
    "df_cara_new = pd.DataFrame(CARAC)\n",
    "df_lieux_new = pd.DataFrame(LIEUX)\n",
    "df_usagers_new = pd.DataFrame(USAGERS)\n",
    "df_vehicules_new = pd.DataFrame(VEHICULE)"
   ]
  },
  {
   "cell_type": "code",
   "execution_count": null,
   "id": "02af6cda-097d-4ac3-86bf-390b7a89efb0",
   "metadata": {},
   "outputs": [],
   "source": [
    "len(df_cara_new), len(df_lieux_new), len(df_usagers_new), len(df_vehicules_new)"
   ]
  },
  {
   "cell_type": "code",
   "execution_count": null,
   "id": "5d286570-bbd1-4d8b-aab0-327617d58796",
   "metadata": {},
   "outputs": [],
   "source": [
    "merged_df = pd.concat([df_cara_new, df_lieux_new], axis=1)"
   ]
  },
  {
   "cell_type": "code",
   "execution_count": null,
   "id": "9774c76a-f7c9-4cdc-a37c-275c4e1a324a",
   "metadata": {},
   "outputs": [],
   "source": [
    "accidents_velos = df_vehicules_new[df_vehicules_new[\"categorie vehicule\"] == \"Bicyclette\"].index\n",
    "\n",
    "for idx in accidents_velos:\n",
    "    vehicles = df_vehicules_new[df_vehicules_new.index == idx]\n",
    "    \n",
    "    # Parti vélo\n",
    "    bike = vehicles[vehicles[\"categorie vehicule\"] == \"Bicyclette\"]\n",
    "    \n",
    "    usager = df_usagers_new[(df_usagers_new.index == idx) & (df_usagers_new[\"id\"] == bike[\"id\"].iloc[0])]\n",
    "    if len(usager) == 0:\n",
    "        continue\n",
    "    for col in usager.columns:\n",
    "        merged_df.loc[idx, col] = usager[col].iloc[0]\n",
    "        \n",
    "    merged_df.loc[idx, \"obstacle fixe heurte\"] = bike[\"obstacle fixe heurte\"].iloc[0]\n",
    "    merged_df.loc[idx, \"obstacle mobile heurte\"] = bike[\"obstacle mobile heurte\"].iloc[0]\n",
    "    merged_df.loc[idx, \"localisation choc\"] = bike[\"localisation choc\"].iloc[0]\n",
    "    merged_df.loc[idx, \"manoeuvre avant accident\"] = bike[\"manoeuvre avant accident\"].iloc[0]\n",
    "    merged_df.loc[idx, \"identifiant vehicule\"] = bike[\"identifiant vehicule\"].iloc[0]\n",
    "    \n",
    "    # Other\n",
    "    merged_df.loc[idx, \"type autres vehicules\"] = pd.Series.mode(vehicles[\"categorie vehicule\"]).loc[0]\n",
    "    merged_df.loc[idx, \"manoeuvre autres vehicules\"] = pd.Series.mode(vehicles[\"manoeuvre autres vehicules\"]).loc[0]\n",
    "    merged_df.loc[idx, \"nombre autres vehicules\"] = len(vehicles) - 1"
   ]
  },
  {
   "cell_type": "code",
   "execution_count": null,
   "id": "8da0db19-c1e6-4a5f-bd9c-3eeea332cd7a",
   "metadata": {},
   "outputs": [],
   "source": [
    "merged_bikes = merged_df.loc[accidents_velos]"
   ]
  },
  {
   "cell_type": "code",
   "execution_count": null,
   "id": "56d9931e-9022-4e6f-8775-d8bd4c392346",
   "metadata": {},
   "outputs": [],
   "source": [
    "df_velos_new = merged_bikes[df_velos.columns]"
   ]
  },
  {
   "cell_type": "code",
   "execution_count": null,
   "id": "27509fcb-2fe2-49bd-8e37-01e824e257d5",
   "metadata": {},
   "outputs": [],
   "source": [
    "df_velos_new.to_csv(f\"data/df_velos_{YEAR}.csv\")"
   ]
  },
  {
   "cell_type": "markdown",
   "id": "ab180d68-04d5-43d0-afd8-a184ad3d916c",
   "metadata": {
    "jp-MarkdownHeadingCollapsed": true,
    "tags": []
   },
   "source": [
    "### Concatenate Data"
   ]
  },
  {
   "cell_type": "code",
   "execution_count": null,
   "id": "00c97dbc-1017-44fa-a82b-ac68c0c1a419",
   "metadata": {},
   "outputs": [],
   "source": [
    "df_velos_news = pd.concat([pd.read_csv(f\"data/df_velos_{year}.csv\", index_col=0) for year in [2019, 2020, 2021]])"
   ]
  },
  {
   "cell_type": "code",
   "execution_count": null,
   "id": "6821d941-2270-4bc2-b9cf-a4c2c777ff28",
   "metadata": {},
   "outputs": [],
   "source": [
    "df_velos.mois = df_velos.mois.str[:2].astype(int)"
   ]
  },
  {
   "cell_type": "code",
   "execution_count": null,
   "id": "220f9593-919d-4b57-9544-2e4ee05b4e86",
   "metadata": {},
   "outputs": [],
   "source": [
    "df_velos.jour"
   ]
  },
  {
   "cell_type": "code",
   "execution_count": 524,
   "id": "cc0e24af-8ddf-4e25-b158-cfb53a0e0a7c",
   "metadata": {},
   "outputs": [],
   "source": [
    "import datetime"
   ]
  },
  {
   "cell_type": "code",
   "execution_count": null,
   "id": "ec329efd-5d79-4dda-b799-39a1e529764c",
   "metadata": {},
   "outputs": [],
   "source": [
    "dates = df_velos_news.date.apply(lambda x: datetime.datetime.strptime(x, \"%Y-%d-%m\"))"
   ]
  },
  {
   "cell_type": "code",
   "execution_count": null,
   "id": "c9770ccc-7135-49e2-a257-fbbb79fba98d",
   "metadata": {},
   "outputs": [],
   "source": [
    "jour = dates.dt.weekday"
   ]
  },
  {
   "cell_type": "code",
   "execution_count": null,
   "id": "e656bfd5-23b4-46f4-95fd-135b505d8a74",
   "metadata": {},
   "outputs": [],
   "source": [
    "mapping_jours = {\n",
    "    0: \"lundi\",\n",
    "    1: \"mardi\", \n",
    "    2: \"mercredi\",\n",
    "    3: \"jeudi\", \n",
    "    4: \"vendredi\",\n",
    "    5: \"samedi\", \n",
    "    6: \"dimanche\"\n",
    "}"
   ]
  },
  {
   "cell_type": "code",
   "execution_count": null,
   "id": "d47c1508-4f3b-4225-a1dc-4ae7cd52b7a0",
   "metadata": {},
   "outputs": [],
   "source": [
    "df_velos_news.jour = jour.apply(lambda x: f\"{x} - {mapping_jours[x]}\")"
   ]
  },
  {
   "cell_type": "code",
   "execution_count": null,
   "id": "c30fdd1e-14dc-4c6c-9129-e66ac6e37c51",
   "metadata": {},
   "outputs": [],
   "source": [
    "df_velos_news.date = dates"
   ]
  },
  {
   "cell_type": "code",
   "execution_count": null,
   "id": "661d607f-20d2-470d-8e60-822529c68592",
   "metadata": {},
   "outputs": [],
   "source": [
    "pd.concat([df_velos, df_velos_news]).to_csv(\"data/df_velos_merged.csv\")"
   ]
  },
  {
   "cell_type": "markdown",
   "id": "880a91ed-e371-47bb-98a6-67497a185f3f",
   "metadata": {
    "tags": []
   },
   "source": [
    "### Check new df"
   ]
  },
  {
   "cell_type": "code",
   "execution_count": 118,
   "id": "dda4f6ea-22de-4f55-9afb-19d7a16737ed",
   "metadata": {},
   "outputs": [
    {
     "name": "stderr",
     "output_type": "stream",
     "text": [
      "/var/folders/19/pckvwjyn0r7630jpjn3lh1800000gn/T/ipykernel_13852/1809340773.py:1: DtypeWarning: Columns (15,19,20) have mixed types. Specify dtype option on import or set low_memory=False.\n",
      "  df_velos_news = pd.read_csv(\"data/df_velos_merged.csv\", index_col=0)\n"
     ]
    }
   ],
   "source": [
    "df_velos_news = pd.read_csv(\"data/df_velos_merged.csv\", index_col=0)\n",
    "df_velos_news.date = pd.to_datetime(df_velos_news.date)"
   ]
  },
  {
   "cell_type": "code",
   "execution_count": 132,
   "id": "5a941323-9665-4101-abb7-768d487233cc",
   "metadata": {},
   "outputs": [],
   "source": [
    "velos_paris = pd.read_csv(\"data/velos_paris.csv\", index_col=0)\n",
    "velos_paris_large = df_velos_news[df_velos_news.departement.apply(lambda x: intify(x)) == 75]"
   ]
  },
  {
   "cell_type": "code",
   "execution_count": 144,
   "id": "48757b60-ca43-4d7c-ba0d-7e72f4e810b0",
   "metadata": {},
   "outputs": [
    {
     "data": {
      "text/plain": [
       "Sur chaussée               3220\n",
       "Sur piste cyclable         1497\n",
       "Sur autre voie spéciale     208\n",
       "Sur trottoir                 72\n",
       "Sur accotement                2\n",
       "Autres                        2\n",
       "Name: situation, dtype: int64"
      ]
     },
     "execution_count": 144,
     "metadata": {},
     "output_type": "execute_result"
    }
   ],
   "source": [
    "velos_paris[\"situation\"].value_counts()"
   ]
  },
  {
   "cell_type": "code",
   "execution_count": 177,
   "id": "c821472b-eea0-41cf-983a-b5b5b328cfa6",
   "metadata": {},
   "outputs": [
    {
     "data": {
      "image/png": "[encoded data removed]",
      "text/plain": [
       "<Figure size 640x480 with 1 Axes>"
      ]
     },
     "metadata": {},
     "output_type": "display_data"
    }
   ],
   "source": [
    "velos_paris_piste = velos_paris[velos_paris.lat > 48.75].plot.scatter(\"lon\", \"lat\")"
   ]
  },
  {
   "cell_type": "code",
   "execution_count": 178,
   "id": "0c02c964-1f0e-47a0-a9c8-734a8fb985f4",
   "metadata": {},
   "outputs": [
    {
     "data": {
      "text/plain": [
       "201000062968    Sur piste cyclable\n",
       "201000062968    Sur piste cyclable\n",
       "201500050797          Sur chaussée\n",
       "201500052215          Sur chaussée\n",
       "201500055885          Sur chaussée\n",
       "                       ...        \n",
       "202100056069    Sur piste cyclable\n",
       "202100056184          Sur chaussée\n",
       "202100056276          Sur chaussée\n",
       "202100056283          Sur chaussée\n",
       "202100056424    Sur piste cyclable\n",
       "Name: situation, Length: 5148, dtype: object"
      ]
     },
     "execution_count": 178,
     "metadata": {},
     "output_type": "execute_result"
    }
   ],
   "source": [
    "velos_paris.situation"
   ]
  },
  {
   "cell_type": "markdown",
   "id": "a7c3941d-da4a-46a9-beea-e35c4f9bc31d",
   "metadata": {
    "jp-MarkdownHeadingCollapsed": true,
    "tags": []
   },
   "source": [
    "### Get model features for streamlit's form"
   ]
  },
  {
   "cell_type": "code",
   "execution_count": 491,
   "id": "6c8d1cf3-9528-4416-bfc2-6b4e4f602efa",
   "metadata": {},
   "outputs": [],
   "source": [
    "velos_paris.columns = [string.replace(\" \", \"_\") for string in velos_paris.columns]"
   ]
  },
  {
   "cell_type": "code",
   "execution_count": 492,
   "id": "c04ebec8-e858-4354-a021-0b9a1230c177",
   "metadata": {},
   "outputs": [
    {
     "data": {
      "text/html": [
       "<div>\n",
       "<style scoped>\n",
       "    .dataframe tbody tr th:only-of-type {\n",
       "        vertical-align: middle;\n",
       "    }\n",
       "\n",
       "    .dataframe tbody tr th {\n",
       "        vertical-align: top;\n",
       "    }\n",
       "\n",
       "    .dataframe thead th {\n",
       "        text-align: right;\n",
       "    }\n",
       "</style>\n",
       "<table border=\"1\" class=\"dataframe\">\n",
       "  <thead>\n",
       "    <tr style=\"text-align: right;\">\n",
       "      <th></th>\n",
       "      <th>jour</th>\n",
       "      <th>luminosite</th>\n",
       "      <th>conditions_atmosperiques</th>\n",
       "      <th>type_route</th>\n",
       "      <th>nb_voies</th>\n",
       "      <th>categorie_usager</th>\n",
       "      <th>sexe</th>\n",
       "      <th>age</th>\n",
       "    </tr>\n",
       "  </thead>\n",
       "  <tbody>\n",
       "    <tr>\n",
       "      <th>201000062968</th>\n",
       "      <td>6 - dimanche</td>\n",
       "      <td>Plein jour</td>\n",
       "      <td>Normale</td>\n",
       "      <td>Voie Communale</td>\n",
       "      <td>NaN</td>\n",
       "      <td>Conducteur</td>\n",
       "      <td>M</td>\n",
       "      <td>31-32</td>\n",
       "    </tr>\n",
       "    <tr>\n",
       "      <th>201000062968</th>\n",
       "      <td>6 - dimanche</td>\n",
       "      <td>Plein jour</td>\n",
       "      <td>Normale</td>\n",
       "      <td>Voie Communale</td>\n",
       "      <td>NaN</td>\n",
       "      <td>Conducteur</td>\n",
       "      <td>M</td>\n",
       "      <td>7-8</td>\n",
       "    </tr>\n",
       "    <tr>\n",
       "      <th>201500050797</th>\n",
       "      <td>1 - mardi</td>\n",
       "      <td>Plein jour</td>\n",
       "      <td>Normale</td>\n",
       "      <td>Voie Communale</td>\n",
       "      <td>6.0</td>\n",
       "      <td>Conducteur</td>\n",
       "      <td>M</td>\n",
       "      <td>18-19</td>\n",
       "    </tr>\n",
       "    <tr>\n",
       "      <th>201500052215</th>\n",
       "      <td>3 - jeudi</td>\n",
       "      <td>Plein jour</td>\n",
       "      <td>Normale</td>\n",
       "      <td>Voie Communale</td>\n",
       "      <td>NaN</td>\n",
       "      <td>Conducteur</td>\n",
       "      <td>M</td>\n",
       "      <td>25-26</td>\n",
       "    </tr>\n",
       "    <tr>\n",
       "      <th>201500055885</th>\n",
       "      <td>5 - samedi</td>\n",
       "      <td>Plein jour</td>\n",
       "      <td>Normale</td>\n",
       "      <td>Voie Communale</td>\n",
       "      <td>1.0</td>\n",
       "      <td>Conducteur</td>\n",
       "      <td>M</td>\n",
       "      <td>24-25</td>\n",
       "    </tr>\n",
       "    <tr>\n",
       "      <th>...</th>\n",
       "      <td>...</td>\n",
       "      <td>...</td>\n",
       "      <td>...</td>\n",
       "      <td>...</td>\n",
       "      <td>...</td>\n",
       "      <td>...</td>\n",
       "      <td>...</td>\n",
       "      <td>...</td>\n",
       "    </tr>\n",
       "    <tr>\n",
       "      <th>202100056069</th>\n",
       "      <td>2 - mercredi</td>\n",
       "      <td>Crépuscule ou aube</td>\n",
       "      <td>Temps couvert</td>\n",
       "      <td>Voie Communales</td>\n",
       "      <td>2.0</td>\n",
       "      <td>Conducteur</td>\n",
       "      <td>Féminin</td>\n",
       "      <td>-50.0</td>\n",
       "    </tr>\n",
       "    <tr>\n",
       "      <th>202100056184</th>\n",
       "      <td>0 - lundi</td>\n",
       "      <td>Nuit avec éclairage public allumé</td>\n",
       "      <td>Normale</td>\n",
       "      <td>Voie Communales</td>\n",
       "      <td>1.0</td>\n",
       "      <td>Conducteur</td>\n",
       "      <td>Masculin</td>\n",
       "      <td>-58.0</td>\n",
       "    </tr>\n",
       "    <tr>\n",
       "      <th>202100056276</th>\n",
       "      <td>0 - lundi</td>\n",
       "      <td>Nuit avec éclairage public allumé</td>\n",
       "      <td>Pluie légère</td>\n",
       "      <td>Voie Communales</td>\n",
       "      <td>2.0</td>\n",
       "      <td>Conducteur</td>\n",
       "      <td>Féminin</td>\n",
       "      <td>-51.0</td>\n",
       "    </tr>\n",
       "    <tr>\n",
       "      <th>202100056283</th>\n",
       "      <td>0 - lundi</td>\n",
       "      <td>Nuit avec éclairage public allumé</td>\n",
       "      <td>Normale</td>\n",
       "      <td>Voie Communales</td>\n",
       "      <td>4.0</td>\n",
       "      <td>Conducteur</td>\n",
       "      <td>Masculin</td>\n",
       "      <td>-27.0</td>\n",
       "    </tr>\n",
       "    <tr>\n",
       "      <th>202100056424</th>\n",
       "      <td>5 - samedi</td>\n",
       "      <td>Plein jour</td>\n",
       "      <td>Temps couvert</td>\n",
       "      <td>Voie Communales</td>\n",
       "      <td>1.0</td>\n",
       "      <td>Conducteur</td>\n",
       "      <td>Féminin</td>\n",
       "      <td>-43.0</td>\n",
       "    </tr>\n",
       "  </tbody>\n",
       "</table>\n",
       "<p>5148 rows × 8 columns</p>\n",
       "</div>"
      ],
      "text/plain": [
       "                      jour                         luminosite  \\\n",
       "201000062968  6 - dimanche                         Plein jour   \n",
       "201000062968  6 - dimanche                         Plein jour   \n",
       "201500050797     1 - mardi                         Plein jour   \n",
       "201500052215     3 - jeudi                         Plein jour   \n",
       "201500055885    5 - samedi                         Plein jour   \n",
       "...                    ...                                ...   \n",
       "202100056069  2 - mercredi                 Crépuscule ou aube   \n",
       "202100056184     0 - lundi  Nuit avec éclairage public allumé   \n",
       "202100056276     0 - lundi  Nuit avec éclairage public allumé   \n",
       "202100056283     0 - lundi  Nuit avec éclairage public allumé   \n",
       "202100056424    5 - samedi                         Plein jour   \n",
       "\n",
       "             conditions_atmosperiques       type_route  nb_voies  \\\n",
       "201000062968                  Normale   Voie Communale       NaN   \n",
       "201000062968                  Normale   Voie Communale       NaN   \n",
       "201500050797                  Normale   Voie Communale       6.0   \n",
       "201500052215                  Normale   Voie Communale       NaN   \n",
       "201500055885                  Normale   Voie Communale       1.0   \n",
       "...                               ...              ...       ...   \n",
       "202100056069           Temps couvert   Voie Communales       2.0   \n",
       "202100056184                  Normale  Voie Communales       1.0   \n",
       "202100056276             Pluie légère  Voie Communales       2.0   \n",
       "202100056283                  Normale  Voie Communales       4.0   \n",
       "202100056424           Temps couvert   Voie Communales       1.0   \n",
       "\n",
       "             categorie_usager      sexe    age  \n",
       "201000062968       Conducteur         M  31-32  \n",
       "201000062968       Conducteur         M    7-8  \n",
       "201500050797       Conducteur         M  18-19  \n",
       "201500052215       Conducteur         M  25-26  \n",
       "201500055885       Conducteur         M  24-25  \n",
       "...                       ...       ...    ...  \n",
       "202100056069       Conducteur   Féminin  -50.0  \n",
       "202100056184       Conducteur  Masculin  -58.0  \n",
       "202100056276       Conducteur   Féminin  -51.0  \n",
       "202100056283       Conducteur  Masculin  -27.0  \n",
       "202100056424       Conducteur   Féminin  -43.0  \n",
       "\n",
       "[5148 rows x 8 columns]"
      ]
     },
     "execution_count": 492,
     "metadata": {},
     "output_type": "execute_result"
    }
   ],
   "source": [
    "velos_paris[[\"jour\", 'luminosite', 'conditions_atmosperiques', 'type_route', 'nb_voies', 'categorie_usager', 'sexe', 'age']]#'piste_cyclable', \"arrondissement\"]]"
   ]
  },
  {
   "cell_type": "code",
   "execution_count": 499,
   "id": "15753a6d-0c4c-43d7-ba7d-54c8cc9042fe",
   "metadata": {},
   "outputs": [],
   "source": [
    "FEATURES = [\"jour\", 'luminosite', 'conditions_atmosperiques', 'type_route', 'nb_voies', 'categorie_usager', 'sexe', 'age', 'piste_cyclable', \"arrondissement\"]"
   ]
  },
  {
   "cell_type": "code",
   "execution_count": 502,
   "id": "eab05085-acaf-41b0-8c9b-77988da1cccf",
   "metadata": {},
   "outputs": [
    {
     "name": "stdout",
     "output_type": "stream",
     "text": [
      "piste_cyclable\n",
      "arrondissement\n"
     ]
    }
   ],
   "source": [
    "features_to_choices = {}\n",
    "\n",
    "for feature in FEATURES:\n",
    "    if feature not in velos_paris.columns:\n",
    "        print(feature)\n",
    "        continue\n",
    "    choices = velos_paris[feature].dropna().unique().tolist()\n",
    "    features_to_choices[feature] = choices"
   ]
  },
  {
   "cell_type": "code",
   "execution_count": null,
   "id": "56457c66-ce11-4c05-ae5e-2a2f24d9f18f",
   "metadata": {},
   "outputs": [],
   "source": [
    "import json"
   ]
  },
  {
   "cell_type": "code",
   "execution_count": 523,
   "id": "b33921a8-00bd-4860-8930-2f9ca3f63e96",
   "metadata": {},
   "outputs": [],
   "source": [
    "json.dump(features_to_choices, open(\"data/model_feature_choices.json\", \"w\"))"
   ]
  }
 ],
 "metadata": {
  "kernelspec": {
   "display_name": "Python 3 (ipykernel)",
   "language": "python",
   "name": "python3"
  },
  "language_info": {
   "codemirror_mode": {
    "name": "ipython",
    "version": 3
   },
   "file_extension": ".py",
   "mimetype": "text/x-python",
   "name": "python",
   "nbconvert_exporter": "python",
   "pygments_lexer": "ipython3",
   "version": "3.10.8"
  }
 },
 "nbformat": 4,
 "nbformat_minor": 5
}
