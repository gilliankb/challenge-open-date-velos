{
 "cells": [
  {
   "cell_type": "markdown",
   "metadata": {},
   "source": [
    "### Import modules"
   ]
  },
  {
   "cell_type": "code",
   "execution_count": 2,
   "metadata": {},
   "outputs": [],
   "source": [
    "\"\"\"This file is meant to explore and visualize the key takeaways from the paris bike\n",
    "accident database found at the following link :\n",
    "UPDATE LINK\n",
    "https://www.data.gouv.fr/fr/datasets/comptage-velo-donnees-compteurs/\"\"\"\n",
    "\n",
    "# Import section\n",
    "import pandas as pd\n",
    "import datetime\n",
    "import numpy as np"
   ]
  },
  {
   "cell_type": "code",
   "execution_count": 33,
   "metadata": {},
   "outputs": [],
   "source": [
    "from sklearn.preprocessing import OneHotEncoder\n",
    "from sklearn.pipeline import Pipeline\n",
    "from sklearn.model_selection import train_test_split\n",
    "from sklearn.preprocessing import StandardScaler\n",
    "from sklearn.linear_model import LinearRegression\n",
    "import sklearn.metrics as metrics\n",
    "from sklearn.neighbors import KNeighborsRegressor\n",
    "import matplotlib.pyplot as plt\n",
    "from sklearn import tree\n",
    "from sklearn.model_selection import GridSearchCV\n",
    "from sklearn.ensemble import RandomForestRegressor"
   ]
  },
  {
   "cell_type": "markdown",
   "metadata": {},
   "source": [
    "### Import accident data"
   ]
  },
  {
   "cell_type": "code",
   "execution_count": 5,
   "metadata": {},
   "outputs": [
    {
     "name": "stderr",
     "output_type": "stream",
     "text": [
      "/var/folders/19/pckvwjyn0r7630jpjn3lh1800000gn/T/ipykernel_24599/378219190.py:1: DtypeWarning: Columns (15,19,20) have mixed types. Specify dtype option on import or set low_memory=False.\n",
      "  df = pd.read_csv(\"data/df_velos_merged.csv\", index_col=0)\n"
     ]
    }
   ],
   "source": [
    "df = pd.read_csv(\"data/df_velos_merged.csv\", index_col=0)"
   ]
  },
  {
   "cell_type": "code",
   "execution_count": 6,
   "metadata": {},
   "outputs": [
    {
     "data": {
      "text/html": [
       "<div>\n",
       "<style scoped>\n",
       "    .dataframe tbody tr th:only-of-type {\n",
       "        vertical-align: middle;\n",
       "    }\n",
       "\n",
       "    .dataframe tbody tr th {\n",
       "        vertical-align: top;\n",
       "    }\n",
       "\n",
       "    .dataframe thead th {\n",
       "        text-align: right;\n",
       "    }\n",
       "</style>\n",
       "<table border=\"1\" class=\"dataframe\">\n",
       "  <thead>\n",
       "    <tr style=\"text-align: right;\">\n",
       "      <th></th>\n",
       "      <th>date</th>\n",
       "      <th>mois</th>\n",
       "      <th>jour</th>\n",
       "      <th>heure</th>\n",
       "      <th>departement</th>\n",
       "      <th>commune</th>\n",
       "      <th>lat</th>\n",
       "      <th>lon</th>\n",
       "      <th>en agglomeration</th>\n",
       "      <th>type intersection</th>\n",
       "      <th>...</th>\n",
       "      <th>existence securite</th>\n",
       "      <th>usage securite</th>\n",
       "      <th>obstacle fixe heurte</th>\n",
       "      <th>obstacle mobile heurte</th>\n",
       "      <th>localisation choc</th>\n",
       "      <th>manoeuvre avant accident</th>\n",
       "      <th>identifiant vehicule</th>\n",
       "      <th>type autres vehicules</th>\n",
       "      <th>manoeuvre autres vehicules</th>\n",
       "      <th>nombre autres vehicules</th>\n",
       "    </tr>\n",
       "  </thead>\n",
       "  <tbody>\n",
       "    <tr>\n",
       "      <th>200500000030</th>\n",
       "      <td>2005-01-13</td>\n",
       "      <td>1</td>\n",
       "      <td>3 - jeudi</td>\n",
       "      <td>19.0</td>\n",
       "      <td>62</td>\n",
       "      <td>62331</td>\n",
       "      <td>50.300</td>\n",
       "      <td>2.840</td>\n",
       "      <td>oui</td>\n",
       "      <td>Hors intersection</td>\n",
       "      <td>...</td>\n",
       "      <td>NaN</td>\n",
       "      <td>NaN</td>\n",
       "      <td>NaN</td>\n",
       "      <td>Véhicule</td>\n",
       "      <td>Côté gauche</td>\n",
       "      <td>Changeant de file à gauche</td>\n",
       "      <td>200500000030B02</td>\n",
       "      <td>Transport en commun</td>\n",
       "      <td>Dépassant à gauche</td>\n",
       "      <td>1.0</td>\n",
       "    </tr>\n",
       "    <tr>\n",
       "      <th>200500000034</th>\n",
       "      <td>2005-01-19</td>\n",
       "      <td>1</td>\n",
       "      <td>2 - mercredi</td>\n",
       "      <td>10.0</td>\n",
       "      <td>62</td>\n",
       "      <td>62022</td>\n",
       "      <td>0.000</td>\n",
       "      <td>0.000</td>\n",
       "      <td>non</td>\n",
       "      <td>Hors intersection</td>\n",
       "      <td>...</td>\n",
       "      <td>NaN</td>\n",
       "      <td>NaN</td>\n",
       "      <td>NaN</td>\n",
       "      <td>Véhicule</td>\n",
       "      <td>Avant</td>\n",
       "      <td>Sans changement de direction</td>\n",
       "      <td>200500000034B02</td>\n",
       "      <td>VU seul 1,5T &lt;= PTAC &lt;= 3,5T avec ou sans remo...</td>\n",
       "      <td>Tournant à gauche</td>\n",
       "      <td>1.0</td>\n",
       "    </tr>\n",
       "    <tr>\n",
       "      <th>200500000078</th>\n",
       "      <td>2005-01-26</td>\n",
       "      <td>1</td>\n",
       "      <td>2 - mercredi</td>\n",
       "      <td>13.0</td>\n",
       "      <td>02</td>\n",
       "      <td>02173</td>\n",
       "      <td>0.000</td>\n",
       "      <td>0.000</td>\n",
       "      <td>non</td>\n",
       "      <td>Autre intersection</td>\n",
       "      <td>...</td>\n",
       "      <td>Casque</td>\n",
       "      <td>Non</td>\n",
       "      <td>NaN</td>\n",
       "      <td>Véhicule</td>\n",
       "      <td>Avant</td>\n",
       "      <td>Sans changement de direction</td>\n",
       "      <td>200500000078B02</td>\n",
       "      <td>VL seul</td>\n",
       "      <td>Tournant à gauche</td>\n",
       "      <td>1.0</td>\n",
       "    </tr>\n",
       "    <tr>\n",
       "      <th>200500000093</th>\n",
       "      <td>2005-01-03</td>\n",
       "      <td>1</td>\n",
       "      <td>0 - lundi</td>\n",
       "      <td>13.0</td>\n",
       "      <td>02</td>\n",
       "      <td>02810</td>\n",
       "      <td>49.255</td>\n",
       "      <td>3.094</td>\n",
       "      <td>oui</td>\n",
       "      <td>Hors intersection</td>\n",
       "      <td>...</td>\n",
       "      <td>NaN</td>\n",
       "      <td>NaN</td>\n",
       "      <td>NaN</td>\n",
       "      <td>Véhicule</td>\n",
       "      <td>Avant gauche</td>\n",
       "      <td>Manœuvre d’évitement</td>\n",
       "      <td>200500000093B02</td>\n",
       "      <td>VL seul</td>\n",
       "      <td>Manœuvre d’évitement</td>\n",
       "      <td>1.0</td>\n",
       "    </tr>\n",
       "    <tr>\n",
       "      <th>200500000170</th>\n",
       "      <td>2005-01-29</td>\n",
       "      <td>1</td>\n",
       "      <td>5 - samedi</td>\n",
       "      <td>18.0</td>\n",
       "      <td>76</td>\n",
       "      <td>76196</td>\n",
       "      <td>0.000</td>\n",
       "      <td>0.000</td>\n",
       "      <td>non</td>\n",
       "      <td>Hors intersection</td>\n",
       "      <td>...</td>\n",
       "      <td>Autre</td>\n",
       "      <td>Oui</td>\n",
       "      <td>NaN</td>\n",
       "      <td>Véhicule</td>\n",
       "      <td>Arrière</td>\n",
       "      <td>Même sens, même file</td>\n",
       "      <td>200500000170A01</td>\n",
       "      <td>VU seul 1,5T &lt;= PTAC &lt;= 3,5T avec ou sans remo...</td>\n",
       "      <td>Même sens, même file</td>\n",
       "      <td>1.0</td>\n",
       "    </tr>\n",
       "  </tbody>\n",
       "</table>\n",
       "<p>5 rows × 38 columns</p>\n",
       "</div>"
      ],
      "text/plain": [
       "                    date  mois          jour  heure departement commune  \\\n",
       "200500000030  2005-01-13     1     3 - jeudi   19.0          62   62331   \n",
       "200500000034  2005-01-19     1  2 - mercredi   10.0          62   62022   \n",
       "200500000078  2005-01-26     1  2 - mercredi   13.0          02   02173   \n",
       "200500000093  2005-01-03     1     0 - lundi   13.0          02   02810   \n",
       "200500000170  2005-01-29     1    5 - samedi   18.0          76   76196   \n",
       "\n",
       "                 lat    lon en agglomeration   type intersection  ...  \\\n",
       "200500000030  50.300  2.840              oui   Hors intersection  ...   \n",
       "200500000034   0.000  0.000              non   Hors intersection  ...   \n",
       "200500000078   0.000  0.000              non  Autre intersection  ...   \n",
       "200500000093  49.255  3.094              oui   Hors intersection  ...   \n",
       "200500000170   0.000  0.000              non   Hors intersection  ...   \n",
       "\n",
       "             existence securite usage securite obstacle fixe heurte  \\\n",
       "200500000030                NaN            NaN                  NaN   \n",
       "200500000034                NaN            NaN                  NaN   \n",
       "200500000078             Casque            Non                  NaN   \n",
       "200500000093                NaN            NaN                  NaN   \n",
       "200500000170              Autre            Oui                  NaN   \n",
       "\n",
       "             obstacle mobile heurte localisation choc  \\\n",
       "200500000030               Véhicule       Côté gauche   \n",
       "200500000034               Véhicule             Avant   \n",
       "200500000078               Véhicule             Avant   \n",
       "200500000093               Véhicule      Avant gauche   \n",
       "200500000170               Véhicule           Arrière   \n",
       "\n",
       "                  manoeuvre avant accident identifiant vehicule  \\\n",
       "200500000030    Changeant de file à gauche      200500000030B02   \n",
       "200500000034  Sans changement de direction      200500000034B02   \n",
       "200500000078  Sans changement de direction      200500000078B02   \n",
       "200500000093          Manœuvre d’évitement      200500000093B02   \n",
       "200500000170          Même sens, même file      200500000170A01   \n",
       "\n",
       "                                          type autres vehicules  \\\n",
       "200500000030                                Transport en commun   \n",
       "200500000034  VU seul 1,5T <= PTAC <= 3,5T avec ou sans remo...   \n",
       "200500000078                                            VL seul   \n",
       "200500000093                                            VL seul   \n",
       "200500000170  VU seul 1,5T <= PTAC <= 3,5T avec ou sans remo...   \n",
       "\n",
       "             manoeuvre autres vehicules nombre autres vehicules  \n",
       "200500000030         Dépassant à gauche                     1.0  \n",
       "200500000034          Tournant à gauche                     1.0  \n",
       "200500000078          Tournant à gauche                     1.0  \n",
       "200500000093       Manœuvre d’évitement                     1.0  \n",
       "200500000170       Même sens, même file                     1.0  \n",
       "\n",
       "[5 rows x 38 columns]"
      ]
     },
     "execution_count": 6,
     "metadata": {},
     "output_type": "execute_result"
    }
   ],
   "source": [
    "df.head()"
   ]
  },
  {
   "cell_type": "markdown",
   "metadata": {},
   "source": [
    "### Clean data"
   ]
  },
  {
   "cell_type": "code",
   "execution_count": 8,
   "metadata": {},
   "outputs": [],
   "source": [
    "# Rename column names\n",
    "\n",
    "def under(str):\n",
    "    return(str.replace(\" \", \"_\"))\n",
    "renamed = dict(zip(df.columns, df.columns.map(under)))\n",
    "df.rename(columns = renamed, inplace=True)"
   ]
  },
  {
   "cell_type": "code",
   "execution_count": 9,
   "metadata": {},
   "outputs": [
    {
     "name": "stderr",
     "output_type": "stream",
     "text": [
      "/Users/gilliankeusch/Desktop/cours_3A_CS/2_période/Challenge_IA/env2/lib/python3.10/site-packages/pandas/core/arrays/timedeltas.py:908: RuntimeWarning: invalid value encountered in cast\n",
      "  base = data.astype(np.int64)\n",
      "/Users/gilliankeusch/Desktop/cours_3A_CS/2_période/Challenge_IA/env2/lib/python3.10/site-packages/pandas/core/arrays/timedeltas.py:912: RuntimeWarning: invalid value encountered in cast\n",
      "  data = (base * m + (frac * m).astype(np.int64)).view(\"timedelta64[ns]\")\n"
     ]
    }
   ],
   "source": [
    "# Convert datafields to their appropriate datatypes\n",
    "def clean_date(string):\n",
    "    try:\n",
    "        return(pd.to_datetime(string[:-6], format = \"%Y-%d-%m\"))\n",
    "    except:\n",
    "        try:\n",
    "            return(pd.to_datetime(string[:-6], format = \"%Y-%m-%d\"))\n",
    "        except:\n",
    "            return(pd.to_datetime(string, format = \"%Y-%d-%m\"))\n",
    "    \n",
    "df[\"clean_date\"] = df[\"date\"].apply(clean_date)\n",
    "\n",
    "df[\"clean_date\"] = df[\"clean_date\"] + pd.to_timedelta(df[\"heure\"], unit=\"h\")\n",
    "\n",
    "df.drop(columns = [\"date\"], inplace=True)\n",
    "df.rename(columns={\"clean_date\": \"date\"}, inplace=True)"
   ]
  },
  {
   "cell_type": "code",
   "execution_count": 10,
   "metadata": {},
   "outputs": [],
   "source": [
    "dico = {\"Indemne\" : 0, \"Blessé léger\" : 1, \"Blessé hospitalisé \" : 2, \"Tué\" : 3, \"0 - Indemne\" : 0,\n",
    "       \"1 - Blessé léger\" : 1, \"2 - Blessé hospitalisé\" : 2, \"3 - Tué\" : 3, \"Non renseigné\" : -1}\n",
    "\n",
    "\n",
    "dico_situation = {\"Sur chaussée\" : False, \"Sur piste cyclable\": True, \"Sur trottoir\" : False,\n",
    "\"Sur autre voie spéciale\" : False, \"Sur accotement\" : False,\n",
    "\"Sur bande d’arrêt d’urgence\" : False, \"Autres\" : False}"
   ]
  },
  {
   "cell_type": "code",
   "execution_count": 11,
   "metadata": {},
   "outputs": [],
   "source": [
    "df[\"jour\"] = df[\"jour\"].apply(lambda x: x[0])\n",
    "df[\"age\"] = df[\"age\"].astype(\"str\").apply(lambda x : x.split(\"-\", 1)[0])\n",
    "df[\"age\"] = df[\"age\"].replace(np.nan, 0)\n",
    "df[\"gravite_accident\"] = df[\"gravite_accident\"].replace(dico)\n",
    "df[\"piste_cyclable\"] = df[\"situation\"].replace(dico_situation)"
   ]
  },
  {
   "cell_type": "code",
   "execution_count": 12,
   "metadata": {},
   "outputs": [],
   "source": [
    "numerical_features = [\"lat\", \"lon\", \"nb_voies\", \"largeur_TPC\", \"largeur_route\", \"nombre_autres_vehicules\",\n",
    "                      \"jour\", \"gravite_accident\", \"age\"]\n",
    "boolean_features = [\"en_agglomeration\", \"usage_securite\"]\n",
    "categorical_features = [\"departement\", \"commune\"]\n",
    "\n",
    "for col in numerical_features :\n",
    "    df[col] = pd.to_numeric(df[col], errors='coerce')\n",
    "    \n",
    "for col in categorical_features :\n",
    "    df[col] = df[col].astype(\"category\")\n",
    "\n",
    "for col in boolean_features :\n",
    "    df[col] = df[col].str.lower().map({'oui':True ,'non':False})\n",
    "    \n",
    "# Drop useless fields\n",
    "\n",
    "to_drop = [\"mois\", \"heure\"]\n",
    "df.drop(to_drop, inplace=True, axis=1)"
   ]
  },
  {
   "cell_type": "code",
   "execution_count": 13,
   "metadata": {},
   "outputs": [
    {
     "name": "stdout",
     "output_type": "stream",
     "text": [
      "Index(['jour', 'departement', 'commune', 'lat', 'lon', 'en_agglomeration',\n",
      "       'type_intersection', 'type_collision', 'luminosite',\n",
      "       'conditions_atmosperiques', 'type_route', 'circulation', 'nb_voies',\n",
      "       'profil_long_route', 'trace_plan_route', 'largeur_TPC', 'largeur_route',\n",
      "       'etat_surface', 'amenagement', 'situation', 'categorie_usager',\n",
      "       'gravite_accident', 'sexe', 'age', 'motif_deplacement',\n",
      "       'existence_securite', 'usage_securite', 'obstacle_fixe_heurte',\n",
      "       'obstacle_mobile_heurte', 'localisation_choc',\n",
      "       'manoeuvre_avant_accident', 'identifiant_vehicule',\n",
      "       'type_autres_vehicules', 'manoeuvre_autres_vehicules',\n",
      "       'nombre_autres_vehicules', 'date', 'piste_cyclable'],\n",
      "      dtype='object')\n"
     ]
    }
   ],
   "source": [
    "print(df.columns)"
   ]
  },
  {
   "cell_type": "markdown",
   "metadata": {},
   "source": [
    "### Focus on Paris values"
   ]
  },
  {
   "cell_type": "code",
   "execution_count": 14,
   "metadata": {},
   "outputs": [
    {
     "data": {
      "text/plain": [
       "(81617, 37)"
      ]
     },
     "execution_count": 14,
     "metadata": {},
     "output_type": "execute_result"
    }
   ],
   "source": [
    "df.shape"
   ]
  },
  {
   "cell_type": "code",
   "execution_count": 15,
   "metadata": {},
   "outputs": [],
   "source": [
    "df = df.loc[df[\"departement\"]==\"75\"]"
   ]
  },
  {
   "cell_type": "code",
   "execution_count": 16,
   "metadata": {},
   "outputs": [
    {
     "data": {
      "text/plain": [
       "(12902, 37)"
      ]
     },
     "execution_count": 16,
     "metadata": {},
     "output_type": "execute_result"
    }
   ],
   "source": [
    "df.shape"
   ]
  },
  {
   "cell_type": "markdown",
   "metadata": {},
   "source": [
    "### Explore numeric features"
   ]
  },
  {
   "cell_type": "code",
   "execution_count": 17,
   "metadata": {},
   "outputs": [
    {
     "data": {
      "text/html": [
       "<div>\n",
       "<style scoped>\n",
       "    .dataframe tbody tr th:only-of-type {\n",
       "        vertical-align: middle;\n",
       "    }\n",
       "\n",
       "    .dataframe tbody tr th {\n",
       "        vertical-align: top;\n",
       "    }\n",
       "\n",
       "    .dataframe thead th {\n",
       "        text-align: right;\n",
       "    }\n",
       "</style>\n",
       "<table border=\"1\" class=\"dataframe\">\n",
       "  <thead>\n",
       "    <tr style=\"text-align: right;\">\n",
       "      <th></th>\n",
       "      <th>jour</th>\n",
       "      <th>lat</th>\n",
       "      <th>lon</th>\n",
       "      <th>nb_voies</th>\n",
       "      <th>largeur_TPC</th>\n",
       "      <th>largeur_route</th>\n",
       "      <th>gravite_accident</th>\n",
       "      <th>age</th>\n",
       "      <th>nombre_autres_vehicules</th>\n",
       "    </tr>\n",
       "  </thead>\n",
       "  <tbody>\n",
       "    <tr>\n",
       "      <th>count</th>\n",
       "      <td>12902.000000</td>\n",
       "      <td>12902.000000</td>\n",
       "      <td>12902.000000</td>\n",
       "      <td>12129.000000</td>\n",
       "      <td>988.000000</td>\n",
       "      <td>9509.000000</td>\n",
       "      <td>12864.000000</td>\n",
       "      <td>9786.000000</td>\n",
       "      <td>10623.000000</td>\n",
       "    </tr>\n",
       "    <tr>\n",
       "      <th>mean</th>\n",
       "      <td>2.748256</td>\n",
       "      <td>19.491499</td>\n",
       "      <td>0.935355</td>\n",
       "      <td>2.339682</td>\n",
       "      <td>51.636640</td>\n",
       "      <td>68.098012</td>\n",
       "      <td>0.934701</td>\n",
       "      <td>36.094318</td>\n",
       "      <td>0.964982</td>\n",
       "    </tr>\n",
       "    <tr>\n",
       "      <th>std</th>\n",
       "      <td>1.864288</td>\n",
       "      <td>23.926323</td>\n",
       "      <td>1.148444</td>\n",
       "      <td>1.356131</td>\n",
       "      <td>66.557975</td>\n",
       "      <td>59.424203</td>\n",
       "      <td>0.443421</td>\n",
       "      <td>14.890546</td>\n",
       "      <td>0.354514</td>\n",
       "    </tr>\n",
       "    <tr>\n",
       "      <th>min</th>\n",
       "      <td>0.000000</td>\n",
       "      <td>0.000000</td>\n",
       "      <td>0.000000</td>\n",
       "      <td>-1.000000</td>\n",
       "      <td>1.000000</td>\n",
       "      <td>-1.000000</td>\n",
       "      <td>0.000000</td>\n",
       "      <td>0.000000</td>\n",
       "      <td>0.000000</td>\n",
       "    </tr>\n",
       "    <tr>\n",
       "      <th>25%</th>\n",
       "      <td>1.000000</td>\n",
       "      <td>0.000000</td>\n",
       "      <td>0.000000</td>\n",
       "      <td>1.000000</td>\n",
       "      <td>10.000000</td>\n",
       "      <td>25.000000</td>\n",
       "      <td>1.000000</td>\n",
       "      <td>25.000000</td>\n",
       "      <td>1.000000</td>\n",
       "    </tr>\n",
       "    <tr>\n",
       "      <th>50%</th>\n",
       "      <td>3.000000</td>\n",
       "      <td>0.000000</td>\n",
       "      <td>0.000000</td>\n",
       "      <td>2.000000</td>\n",
       "      <td>22.500000</td>\n",
       "      <td>60.000000</td>\n",
       "      <td>1.000000</td>\n",
       "      <td>33.000000</td>\n",
       "      <td>1.000000</td>\n",
       "    </tr>\n",
       "    <tr>\n",
       "      <th>75%</th>\n",
       "      <td>4.000000</td>\n",
       "      <td>48.853458</td>\n",
       "      <td>2.335249</td>\n",
       "      <td>3.000000</td>\n",
       "      <td>78.000000</td>\n",
       "      <td>100.000000</td>\n",
       "      <td>1.000000</td>\n",
       "      <td>46.000000</td>\n",
       "      <td>1.000000</td>\n",
       "    </tr>\n",
       "    <tr>\n",
       "      <th>max</th>\n",
       "      <td>6.000000</td>\n",
       "      <td>48.901300</td>\n",
       "      <td>2.464630</td>\n",
       "      <td>28.000000</td>\n",
       "      <td>700.000000</td>\n",
       "      <td>770.000000</td>\n",
       "      <td>3.000000</td>\n",
       "      <td>95.000000</td>\n",
       "      <td>7.000000</td>\n",
       "    </tr>\n",
       "  </tbody>\n",
       "</table>\n",
       "</div>"
      ],
      "text/plain": [
       "               jour           lat           lon      nb_voies  largeur_TPC  \\\n",
       "count  12902.000000  12902.000000  12902.000000  12129.000000   988.000000   \n",
       "mean       2.748256     19.491499      0.935355      2.339682    51.636640   \n",
       "std        1.864288     23.926323      1.148444      1.356131    66.557975   \n",
       "min        0.000000      0.000000      0.000000     -1.000000     1.000000   \n",
       "25%        1.000000      0.000000      0.000000      1.000000    10.000000   \n",
       "50%        3.000000      0.000000      0.000000      2.000000    22.500000   \n",
       "75%        4.000000     48.853458      2.335249      3.000000    78.000000   \n",
       "max        6.000000     48.901300      2.464630     28.000000   700.000000   \n",
       "\n",
       "       largeur_route  gravite_accident          age  nombre_autres_vehicules  \n",
       "count    9509.000000      12864.000000  9786.000000             10623.000000  \n",
       "mean       68.098012          0.934701    36.094318                 0.964982  \n",
       "std        59.424203          0.443421    14.890546                 0.354514  \n",
       "min        -1.000000          0.000000     0.000000                 0.000000  \n",
       "25%        25.000000          1.000000    25.000000                 1.000000  \n",
       "50%        60.000000          1.000000    33.000000                 1.000000  \n",
       "75%       100.000000          1.000000    46.000000                 1.000000  \n",
       "max       770.000000          3.000000    95.000000                 7.000000  "
      ]
     },
     "execution_count": 17,
     "metadata": {},
     "output_type": "execute_result"
    }
   ],
   "source": [
    "df.describe()"
   ]
  },
  {
   "cell_type": "markdown",
   "metadata": {},
   "source": [
    "### Explore nan values"
   ]
  },
  {
   "cell_type": "code",
   "execution_count": 18,
   "metadata": {},
   "outputs": [
    {
     "name": "stdout",
     "output_type": "stream",
     "text": [
      "jour 0\n",
      "departement 0\n",
      "commune 0\n",
      "lat 0\n",
      "lon 0\n",
      "en_agglomeration 3113\n",
      "type_intersection 0\n",
      "type_collision 0\n",
      "luminosite 0\n",
      "conditions_atmosperiques 0\n",
      "type_route 0\n",
      "circulation 9789\n",
      "nb_voies 773\n",
      "profil_long_route 314\n",
      "trace_plan_route 878\n",
      "largeur_TPC 11914\n",
      "largeur_route 3393\n",
      "etat_surface 256\n",
      "amenagement 9109\n",
      "situation 508\n",
      "categorie_usager 38\n",
      "gravite_accident 38\n",
      "sexe 38\n",
      "age 3116\n",
      "motif_deplacement 1924\n",
      "existence_securite 1249\n",
      "usage_securite 7284\n",
      "obstacle_fixe_heurte 9596\n",
      "obstacle_mobile_heurte 1601\n",
      "localisation_choc 1357\n",
      "manoeuvre_avant_accident 246\n",
      "identifiant_vehicule 38\n",
      "type_autres_vehicules 2279\n",
      "manoeuvre_autres_vehicules 2460\n",
      "nombre_autres_vehicules 2279\n",
      "date 151\n",
      "piste_cyclable 508\n"
     ]
    }
   ],
   "source": [
    "for col in df.columns:\n",
    "    print(col, df[col].isna().sum())"
   ]
  },
  {
   "cell_type": "code",
   "execution_count": 19,
   "metadata": {},
   "outputs": [],
   "source": [
    "to_drop = [\"circulation\", \"amenagement\", \"usage_securite\", \"obstacle_fixe_heurte\", \"largeur_TPC\", \"largeur_route\", \"situation\",\n",
    "            \"lat\", \"lon\"\n",
    "]\n",
    "df = df.drop(columns = to_drop)"
   ]
  },
  {
   "cell_type": "code",
   "execution_count": 20,
   "metadata": {},
   "outputs": [],
   "source": [
    "to_drop_macro = [\"en_agglomeration\", 'motif_deplacement', \"existence_securite\",\n",
    "                 \"obstacle_mobile_heurte\", \"localisation_choc\", \"manoeuvre_autres_vehicules\",\n",
    "                \"type_autres_vehicules\", \"manoeuvre_avant_accident\", \"profil_long_route\",\n",
    "                \"etat_surface\", \"trace_plan_route\", \"nombre_autres_vehicules\"]\n",
    "df = df.drop(columns = to_drop_macro)"
   ]
  },
  {
   "cell_type": "code",
   "execution_count": 21,
   "metadata": {},
   "outputs": [
    {
     "name": "stdout",
     "output_type": "stream",
     "text": [
      "jour 0\n",
      "departement 0\n",
      "commune 0\n",
      "type_intersection 0\n",
      "type_collision 0\n",
      "luminosite 0\n",
      "conditions_atmosperiques 0\n",
      "type_route 0\n",
      "nb_voies 773\n",
      "categorie_usager 38\n",
      "gravite_accident 38\n",
      "sexe 38\n",
      "age 3116\n",
      "identifiant_vehicule 38\n",
      "date 151\n",
      "piste_cyclable 508\n",
      "(12902, 16)\n"
     ]
    },
    {
     "data": {
      "text/html": [
       "<div>\n",
       "<style scoped>\n",
       "    .dataframe tbody tr th:only-of-type {\n",
       "        vertical-align: middle;\n",
       "    }\n",
       "\n",
       "    .dataframe tbody tr th {\n",
       "        vertical-align: top;\n",
       "    }\n",
       "\n",
       "    .dataframe thead th {\n",
       "        text-align: right;\n",
       "    }\n",
       "</style>\n",
       "<table border=\"1\" class=\"dataframe\">\n",
       "  <thead>\n",
       "    <tr style=\"text-align: right;\">\n",
       "      <th></th>\n",
       "      <th>jour</th>\n",
       "      <th>departement</th>\n",
       "      <th>commune</th>\n",
       "      <th>type_intersection</th>\n",
       "      <th>type_collision</th>\n",
       "      <th>luminosite</th>\n",
       "      <th>conditions_atmosperiques</th>\n",
       "      <th>type_route</th>\n",
       "      <th>nb_voies</th>\n",
       "      <th>categorie_usager</th>\n",
       "      <th>gravite_accident</th>\n",
       "      <th>sexe</th>\n",
       "      <th>age</th>\n",
       "      <th>identifiant_vehicule</th>\n",
       "      <th>date</th>\n",
       "      <th>piste_cyclable</th>\n",
       "    </tr>\n",
       "  </thead>\n",
       "  <tbody>\n",
       "    <tr>\n",
       "      <th>200500004591</th>\n",
       "      <td>1</td>\n",
       "      <td>75</td>\n",
       "      <td>75001</td>\n",
       "      <td>Hors intersection</td>\n",
       "      <td>Deux véhicules - par le coté</td>\n",
       "      <td>Nuit avec éclairage public allumé</td>\n",
       "      <td>Normale</td>\n",
       "      <td>Voie Communale</td>\n",
       "      <td>2.0</td>\n",
       "      <td>Conducteur</td>\n",
       "      <td>1.0</td>\n",
       "      <td>M</td>\n",
       "      <td>36.0</td>\n",
       "      <td>200500004591B01</td>\n",
       "      <td>2005-01-01 17:00:00</td>\n",
       "      <td>False</td>\n",
       "    </tr>\n",
       "    <tr>\n",
       "      <th>200500004597</th>\n",
       "      <td>0</td>\n",
       "      <td>75</td>\n",
       "      <td>75005</td>\n",
       "      <td>Intersection en X</td>\n",
       "      <td>Deux véhicules - par l’arrière</td>\n",
       "      <td>Plein jour</td>\n",
       "      <td>Normale</td>\n",
       "      <td>Voie Communale</td>\n",
       "      <td>3.0</td>\n",
       "      <td>Conducteur</td>\n",
       "      <td>0.0</td>\n",
       "      <td>M</td>\n",
       "      <td>26.0</td>\n",
       "      <td>200500004597A01</td>\n",
       "      <td>2005-01-01 09:00:00</td>\n",
       "      <td>False</td>\n",
       "    </tr>\n",
       "    <tr>\n",
       "      <th>200500004600</th>\n",
       "      <td>0</td>\n",
       "      <td>75</td>\n",
       "      <td>75019</td>\n",
       "      <td>Intersection en T</td>\n",
       "      <td>Autre</td>\n",
       "      <td>Nuit avec éclairage public allumé</td>\n",
       "      <td>Normale</td>\n",
       "      <td>Voie Communale</td>\n",
       "      <td>4.0</td>\n",
       "      <td>Conducteur</td>\n",
       "      <td>0.0</td>\n",
       "      <td>M</td>\n",
       "      <td>31.0</td>\n",
       "      <td>200500004600A01</td>\n",
       "      <td>2005-01-01 17:00:00</td>\n",
       "      <td>False</td>\n",
       "    </tr>\n",
       "    <tr>\n",
       "      <th>200500004627</th>\n",
       "      <td>2</td>\n",
       "      <td>75</td>\n",
       "      <td>75007</td>\n",
       "      <td>Intersection en T</td>\n",
       "      <td>Deux véhicules - par le coté</td>\n",
       "      <td>Nuit avec éclairage public allumé</td>\n",
       "      <td>Pluie légère</td>\n",
       "      <td>Voie Communale</td>\n",
       "      <td>2.0</td>\n",
       "      <td>Conducteur</td>\n",
       "      <td>1.0</td>\n",
       "      <td>M</td>\n",
       "      <td>57.0</td>\n",
       "      <td>200500004627A01</td>\n",
       "      <td>2005-01-01 18:00:00</td>\n",
       "      <td>False</td>\n",
       "    </tr>\n",
       "    <tr>\n",
       "      <th>200500004630</th>\n",
       "      <td>2</td>\n",
       "      <td>75</td>\n",
       "      <td>75013</td>\n",
       "      <td>Intersection en T</td>\n",
       "      <td>Deux véhicules - par le coté</td>\n",
       "      <td>Plein jour</td>\n",
       "      <td>Pluie légère</td>\n",
       "      <td>Voie Communale</td>\n",
       "      <td>4.0</td>\n",
       "      <td>Conducteur</td>\n",
       "      <td>1.0</td>\n",
       "      <td>F</td>\n",
       "      <td>26.0</td>\n",
       "      <td>200500004630B01</td>\n",
       "      <td>2005-01-01 08:00:00</td>\n",
       "      <td>False</td>\n",
       "    </tr>\n",
       "  </tbody>\n",
       "</table>\n",
       "</div>"
      ],
      "text/plain": [
       "              jour departement commune  type_intersection  \\\n",
       "200500004591     1          75   75001  Hors intersection   \n",
       "200500004597     0          75   75005  Intersection en X   \n",
       "200500004600     0          75   75019  Intersection en T   \n",
       "200500004627     2          75   75007  Intersection en T   \n",
       "200500004630     2          75   75013  Intersection en T   \n",
       "\n",
       "                              type_collision  \\\n",
       "200500004591    Deux véhicules - par le coté   \n",
       "200500004597  Deux véhicules - par l’arrière   \n",
       "200500004600                           Autre   \n",
       "200500004627    Deux véhicules - par le coté   \n",
       "200500004630    Deux véhicules - par le coté   \n",
       "\n",
       "                                     luminosite conditions_atmosperiques  \\\n",
       "200500004591  Nuit avec éclairage public allumé                  Normale   \n",
       "200500004597                         Plein jour                  Normale   \n",
       "200500004600  Nuit avec éclairage public allumé                  Normale   \n",
       "200500004627  Nuit avec éclairage public allumé             Pluie légère   \n",
       "200500004630                         Plein jour             Pluie légère   \n",
       "\n",
       "                  type_route  nb_voies categorie_usager  gravite_accident  \\\n",
       "200500004591  Voie Communale       2.0       Conducteur               1.0   \n",
       "200500004597  Voie Communale       3.0       Conducteur               0.0   \n",
       "200500004600  Voie Communale       4.0       Conducteur               0.0   \n",
       "200500004627  Voie Communale       2.0       Conducteur               1.0   \n",
       "200500004630  Voie Communale       4.0       Conducteur               1.0   \n",
       "\n",
       "             sexe   age identifiant_vehicule                date  \\\n",
       "200500004591    M  36.0      200500004591B01 2005-01-01 17:00:00   \n",
       "200500004597    M  26.0      200500004597A01 2005-01-01 09:00:00   \n",
       "200500004600    M  31.0      200500004600A01 2005-01-01 17:00:00   \n",
       "200500004627    M  57.0      200500004627A01 2005-01-01 18:00:00   \n",
       "200500004630    F  26.0      200500004630B01 2005-01-01 08:00:00   \n",
       "\n",
       "             piste_cyclable  \n",
       "200500004591          False  \n",
       "200500004597          False  \n",
       "200500004600          False  \n",
       "200500004627          False  \n",
       "200500004630          False  "
      ]
     },
     "execution_count": 21,
     "metadata": {},
     "output_type": "execute_result"
    }
   ],
   "source": [
    "for col in df.columns:\n",
    "    print(col, df[col].isna().sum())\n",
    "\n",
    "print(df.shape)\n",
    "df.head()"
   ]
  },
  {
   "cell_type": "code",
   "execution_count": 22,
   "metadata": {},
   "outputs": [],
   "source": [
    "df = df.dropna()"
   ]
  },
  {
   "cell_type": "code",
   "execution_count": 23,
   "metadata": {},
   "outputs": [
    {
     "data": {
      "text/plain": [
       "(8471, 16)"
      ]
     },
     "execution_count": 23,
     "metadata": {},
     "output_type": "execute_result"
    }
   ],
   "source": [
    "df.shape"
   ]
  },
  {
   "cell_type": "markdown",
   "metadata": {},
   "source": [
    "### Categorical features"
   ]
  },
  {
   "cell_type": "code",
   "execution_count": 24,
   "metadata": {},
   "outputs": [],
   "source": [
    "df[\"arrondissement\"] = df[\"commune\"].apply(lambda x : x[-2:])"
   ]
  },
  {
   "cell_type": "code",
   "execution_count": 25,
   "metadata": {},
   "outputs": [],
   "source": [
    "other_cat = [\"departement\", \"type_intersection\", \"type_collision\",\n",
    "             \"identifiant_vehicule\", \"date\", \"commune\"]"
   ]
  },
  {
   "cell_type": "code",
   "execution_count": 26,
   "metadata": {},
   "outputs": [
    {
     "data": {
      "text/plain": [
       "Index(['jour', 'luminosite', 'conditions_atmosperiques', 'type_route',\n",
       "       'nb_voies', 'categorie_usager', 'gravite_accident', 'sexe', 'age',\n",
       "       'piste_cyclable', 'arrondissement'],\n",
       "      dtype='object')"
      ]
     },
     "execution_count": 26,
     "metadata": {},
     "output_type": "execute_result"
    }
   ],
   "source": [
    "df.drop(columns = other_cat, inplace=True)\n",
    "df.columns"
   ]
  },
  {
   "cell_type": "markdown",
   "metadata": {},
   "source": [
    "### Preprocessing"
   ]
  },
  {
   "cell_type": "code",
   "execution_count": 27,
   "metadata": {},
   "outputs": [],
   "source": [
    "## One hot encoding when needed"
   ]
  },
  {
   "cell_type": "code",
   "execution_count": 28,
   "metadata": {},
   "outputs": [],
   "source": [
    "one_hot = [\"luminosite\", \"type_route\", \"conditions_atmosperiques\",\n",
    "           \"categorie_usager\", \"sexe\", \"arrondissement\", \"piste_cyclable\"]\n",
    "df_one_hot = df[one_hot]"
   ]
  },
  {
   "cell_type": "code",
   "execution_count": 29,
   "metadata": {},
   "outputs": [],
   "source": [
    "df_one_hot = pd.get_dummies(df_one_hot)\n",
    "df = pd.concat([df, df_one_hot], axis=1)\n",
    "df = df.drop(one_hot, axis = 1)"
   ]
  },
  {
   "cell_type": "code",
   "execution_count": 30,
   "metadata": {},
   "outputs": [],
   "source": [
    "## Scaling our data"
   ]
  },
  {
   "cell_type": "code",
   "execution_count": 31,
   "metadata": {},
   "outputs": [
    {
     "data": {
      "text/plain": [
       "Index(['jour', 'nb_voies', 'age', 'luminosite_Crépuscule ou aube',\n",
       "       'luminosite_Nuit avec éclairage public allumé',\n",
       "       'luminosite_Nuit avec éclairage public non allumé',\n",
       "       'luminosite_Nuit sans éclairage public', 'luminosite_Plein jour',\n",
       "       'type_route_Autre', 'type_route_Hors réseau public',\n",
       "       'type_route_Parc de stationnement ouvert à la circulation publique',\n",
       "       'type_route_Route Départementale', 'type_route_Route Nationale',\n",
       "       'type_route_Voie Communale', 'conditions_atmosperiques_Autre',\n",
       "       'conditions_atmosperiques_Brouillard - fumée',\n",
       "       'conditions_atmosperiques_Neige - grêle',\n",
       "       'conditions_atmosperiques_Normale',\n",
       "       'conditions_atmosperiques_Pluie forte',\n",
       "       'conditions_atmosperiques_Pluie légère',\n",
       "       'conditions_atmosperiques_Temps couvert',\n",
       "       'conditions_atmosperiques_Temps éblouissant',\n",
       "       'conditions_atmosperiques_Vent fort - tempête',\n",
       "       'categorie_usager_Conducteur', 'categorie_usager_Passager',\n",
       "       'categorie_usager_Piéton',\n",
       "       'categorie_usager_Piéton en roller ou en trottinette', 'sexe_F',\n",
       "       'sexe_M', 'arrondissement_01', 'arrondissement_02', 'arrondissement_03',\n",
       "       'arrondissement_04', 'arrondissement_05', 'arrondissement_06',\n",
       "       'arrondissement_07', 'arrondissement_08', 'arrondissement_09',\n",
       "       'arrondissement_10', 'arrondissement_11', 'arrondissement_12',\n",
       "       'arrondissement_13', 'arrondissement_14', 'arrondissement_15',\n",
       "       'arrondissement_16', 'arrondissement_17', 'arrondissement_18',\n",
       "       'arrondissement_19', 'arrondissement_20', 'piste_cyclable_False',\n",
       "       'piste_cyclable_True'],\n",
       "      dtype='object')"
      ]
     },
     "execution_count": 31,
     "metadata": {},
     "output_type": "execute_result"
    }
   ],
   "source": [
    "template = df.columns\n",
    "template = template.drop(\"gravite_accident\")\n",
    "template"
   ]
  },
  {
   "cell_type": "code",
   "execution_count": 42,
   "metadata": {},
   "outputs": [],
   "source": [
    "df.to_csv(\"data/data_model.csv\")"
   ]
  },
  {
   "cell_type": "code",
   "execution_count": 34,
   "metadata": {},
   "outputs": [],
   "source": [
    "x_train, x_test, y_train, y_test = train_test_split(df.drop(columns=\"gravite_accident\"), df[\"gravite_accident\"], test_size=0.2)"
   ]
  },
  {
   "cell_type": "code",
   "execution_count": 35,
   "metadata": {},
   "outputs": [],
   "source": [
    "scaler = StandardScaler()\n",
    "to_scale = ['jour',\n",
    "#'lat', 'lon',\n",
    "        'nb_voies', 'age']\n",
    "for col in to_scale:\n",
    "    x_train[col] = scaler.fit_transform(np.array(x_train[col]).reshape(-1,1))\n",
    "    x_test[col] = scaler.transform(np.array(x_test[col]).reshape(-1,1))"
   ]
  },
  {
   "cell_type": "code",
   "execution_count": 44,
   "metadata": {},
   "outputs": [
    {
     "data": {
      "text/html": [
       "<div>\n",
       "<style scoped>\n",
       "    .dataframe tbody tr th:only-of-type {\n",
       "        vertical-align: middle;\n",
       "    }\n",
       "\n",
       "    .dataframe tbody tr th {\n",
       "        vertical-align: top;\n",
       "    }\n",
       "\n",
       "    .dataframe thead th {\n",
       "        text-align: right;\n",
       "    }\n",
       "</style>\n",
       "<table border=\"1\" class=\"dataframe\">\n",
       "  <thead>\n",
       "    <tr style=\"text-align: right;\">\n",
       "      <th></th>\n",
       "      <th>jour</th>\n",
       "      <th>nb_voies</th>\n",
       "      <th>age</th>\n",
       "      <th>luminosite_Crépuscule ou aube</th>\n",
       "      <th>luminosite_Nuit avec éclairage public allumé</th>\n",
       "      <th>luminosite_Nuit avec éclairage public non allumé</th>\n",
       "      <th>luminosite_Nuit sans éclairage public</th>\n",
       "      <th>luminosite_Plein jour</th>\n",
       "      <th>type_route_Autre</th>\n",
       "      <th>type_route_Hors réseau public</th>\n",
       "      <th>...</th>\n",
       "      <th>arrondissement_13</th>\n",
       "      <th>arrondissement_14</th>\n",
       "      <th>arrondissement_15</th>\n",
       "      <th>arrondissement_16</th>\n",
       "      <th>arrondissement_17</th>\n",
       "      <th>arrondissement_18</th>\n",
       "      <th>arrondissement_19</th>\n",
       "      <th>arrondissement_20</th>\n",
       "      <th>piste_cyclable_False</th>\n",
       "      <th>piste_cyclable_True</th>\n",
       "    </tr>\n",
       "  </thead>\n",
       "  <tbody>\n",
       "    <tr>\n",
       "      <th>200700029982</th>\n",
       "      <td>-1.451002</td>\n",
       "      <td>-0.176120</td>\n",
       "      <td>-2.280368</td>\n",
       "      <td>0</td>\n",
       "      <td>0</td>\n",
       "      <td>0</td>\n",
       "      <td>0</td>\n",
       "      <td>1</td>\n",
       "      <td>0</td>\n",
       "      <td>0</td>\n",
       "      <td>...</td>\n",
       "      <td>0</td>\n",
       "      <td>0</td>\n",
       "      <td>0</td>\n",
       "      <td>0</td>\n",
       "      <td>0</td>\n",
       "      <td>0</td>\n",
       "      <td>0</td>\n",
       "      <td>0</td>\n",
       "      <td>1</td>\n",
       "      <td>0</td>\n",
       "    </tr>\n",
       "    <tr>\n",
       "      <th>201700056748</th>\n",
       "      <td>1.223933</td>\n",
       "      <td>-0.176120</td>\n",
       "      <td>-0.617442</td>\n",
       "      <td>0</td>\n",
       "      <td>0</td>\n",
       "      <td>0</td>\n",
       "      <td>0</td>\n",
       "      <td>1</td>\n",
       "      <td>0</td>\n",
       "      <td>0</td>\n",
       "      <td>...</td>\n",
       "      <td>0</td>\n",
       "      <td>0</td>\n",
       "      <td>0</td>\n",
       "      <td>0</td>\n",
       "      <td>1</td>\n",
       "      <td>0</td>\n",
       "      <td>0</td>\n",
       "      <td>0</td>\n",
       "      <td>0</td>\n",
       "      <td>1</td>\n",
       "    </tr>\n",
       "    <tr>\n",
       "      <th>201400054175</th>\n",
       "      <td>0.153959</td>\n",
       "      <td>-0.176120</td>\n",
       "      <td>1.644137</td>\n",
       "      <td>0</td>\n",
       "      <td>0</td>\n",
       "      <td>0</td>\n",
       "      <td>0</td>\n",
       "      <td>1</td>\n",
       "      <td>0</td>\n",
       "      <td>0</td>\n",
       "      <td>...</td>\n",
       "      <td>0</td>\n",
       "      <td>0</td>\n",
       "      <td>0</td>\n",
       "      <td>0</td>\n",
       "      <td>0</td>\n",
       "      <td>0</td>\n",
       "      <td>0</td>\n",
       "      <td>0</td>\n",
       "      <td>1</td>\n",
       "      <td>0</td>\n",
       "    </tr>\n",
       "    <tr>\n",
       "      <th>200900009201</th>\n",
       "      <td>1.223933</td>\n",
       "      <td>-0.949543</td>\n",
       "      <td>-0.085306</td>\n",
       "      <td>0</td>\n",
       "      <td>0</td>\n",
       "      <td>0</td>\n",
       "      <td>0</td>\n",
       "      <td>1</td>\n",
       "      <td>0</td>\n",
       "      <td>0</td>\n",
       "      <td>...</td>\n",
       "      <td>0</td>\n",
       "      <td>0</td>\n",
       "      <td>0</td>\n",
       "      <td>0</td>\n",
       "      <td>0</td>\n",
       "      <td>0</td>\n",
       "      <td>0</td>\n",
       "      <td>0</td>\n",
       "      <td>1</td>\n",
       "      <td>0</td>\n",
       "    </tr>\n",
       "    <tr>\n",
       "      <th>201000063817</th>\n",
       "      <td>0.153959</td>\n",
       "      <td>-0.176120</td>\n",
       "      <td>-1.016544</td>\n",
       "      <td>1</td>\n",
       "      <td>0</td>\n",
       "      <td>0</td>\n",
       "      <td>0</td>\n",
       "      <td>0</td>\n",
       "      <td>0</td>\n",
       "      <td>0</td>\n",
       "      <td>...</td>\n",
       "      <td>0</td>\n",
       "      <td>0</td>\n",
       "      <td>1</td>\n",
       "      <td>0</td>\n",
       "      <td>0</td>\n",
       "      <td>0</td>\n",
       "      <td>0</td>\n",
       "      <td>0</td>\n",
       "      <td>1</td>\n",
       "      <td>0</td>\n",
       "    </tr>\n",
       "  </tbody>\n",
       "</table>\n",
       "<p>5 rows × 51 columns</p>\n",
       "</div>"
      ],
      "text/plain": [
       "                  jour  nb_voies       age  luminosite_Crépuscule ou aube  \\\n",
       "200700029982 -1.451002 -0.176120 -2.280368                              0   \n",
       "201700056748  1.223933 -0.176120 -0.617442                              0   \n",
       "201400054175  0.153959 -0.176120  1.644137                              0   \n",
       "200900009201  1.223933 -0.949543 -0.085306                              0   \n",
       "201000063817  0.153959 -0.176120 -1.016544                              1   \n",
       "\n",
       "              luminosite_Nuit avec éclairage public allumé  \\\n",
       "200700029982                                             0   \n",
       "201700056748                                             0   \n",
       "201400054175                                             0   \n",
       "200900009201                                             0   \n",
       "201000063817                                             0   \n",
       "\n",
       "              luminosite_Nuit avec éclairage public non allumé  \\\n",
       "200700029982                                                 0   \n",
       "201700056748                                                 0   \n",
       "201400054175                                                 0   \n",
       "200900009201                                                 0   \n",
       "201000063817                                                 0   \n",
       "\n",
       "              luminosite_Nuit sans éclairage public  luminosite_Plein jour  \\\n",
       "200700029982                                      0                      1   \n",
       "201700056748                                      0                      1   \n",
       "201400054175                                      0                      1   \n",
       "200900009201                                      0                      1   \n",
       "201000063817                                      0                      0   \n",
       "\n",
       "              type_route_Autre  type_route_Hors réseau public  ...  \\\n",
       "200700029982                 0                              0  ...   \n",
       "201700056748                 0                              0  ...   \n",
       "201400054175                 0                              0  ...   \n",
       "200900009201                 0                              0  ...   \n",
       "201000063817                 0                              0  ...   \n",
       "\n",
       "              arrondissement_13  arrondissement_14  arrondissement_15  \\\n",
       "200700029982                  0                  0                  0   \n",
       "201700056748                  0                  0                  0   \n",
       "201400054175                  0                  0                  0   \n",
       "200900009201                  0                  0                  0   \n",
       "201000063817                  0                  0                  1   \n",
       "\n",
       "              arrondissement_16  arrondissement_17  arrondissement_18  \\\n",
       "200700029982                  0                  0                  0   \n",
       "201700056748                  0                  1                  0   \n",
       "201400054175                  0                  0                  0   \n",
       "200900009201                  0                  0                  0   \n",
       "201000063817                  0                  0                  0   \n",
       "\n",
       "              arrondissement_19  arrondissement_20  piste_cyclable_False  \\\n",
       "200700029982                  0                  0                     1   \n",
       "201700056748                  0                  0                     0   \n",
       "201400054175                  0                  0                     1   \n",
       "200900009201                  0                  0                     1   \n",
       "201000063817                  0                  0                     1   \n",
       "\n",
       "              piste_cyclable_True  \n",
       "200700029982                    0  \n",
       "201700056748                    1  \n",
       "201400054175                    0  \n",
       "200900009201                    0  \n",
       "201000063817                    0  \n",
       "\n",
       "[5 rows x 51 columns]"
      ]
     },
     "execution_count": 44,
     "metadata": {},
     "output_type": "execute_result"
    }
   ],
   "source": [
    "x_train.head()"
   ]
  },
  {
   "cell_type": "code",
   "execution_count": 45,
   "metadata": {},
   "outputs": [
    {
     "data": {
      "text/plain": [
       "200700029982    1.0\n",
       "201700056748    0.0\n",
       "201400054175    1.0\n",
       "200900009201    1.0\n",
       "201000063817    1.0\n",
       "Name: gravite_accident, dtype: float64"
      ]
     },
     "execution_count": 45,
     "metadata": {},
     "output_type": "execute_result"
    }
   ],
   "source": [
    "y_train.head()"
   ]
  },
  {
   "cell_type": "code",
   "execution_count": 46,
   "metadata": {},
   "outputs": [],
   "source": [
    "import json\n",
    "json.dump({\"template\": template.tolist()}, open(\"data/template.json\", \"w\"))"
   ]
  },
  {
   "cell_type": "markdown",
   "metadata": {},
   "source": [
    "### Regression models"
   ]
  },
  {
   "cell_type": "code",
   "execution_count": 47,
   "metadata": {},
   "outputs": [],
   "source": [
    "def Linear():\n",
    "    # Create regressor\n",
    "    clf = LinearRegression()\n",
    "    # Fit on the training set\n",
    "    clf.fit(x_train, y_train)\n",
    "    # Create predictions\n",
    "    pred = clf.predict(x_test)\n",
    "    # Print the accuracy and root mean square error\n",
    "    acc = clf.score(x_test,y_test)\n",
    "    rmse = metrics.mean_squared_error(y_test, pred, squared = False)\n",
    "    return(clf, acc, rmse)"
   ]
  },
  {
   "cell_type": "code",
   "execution_count": 48,
   "metadata": {},
   "outputs": [
    {
     "data": {
      "text/plain": [
       "(LinearRegression(), 0.037441041252278984, 0.45541447650128675)"
      ]
     },
     "execution_count": 48,
     "metadata": {},
     "output_type": "execute_result"
    }
   ],
   "source": [
    "Linear()"
   ]
  },
  {
   "cell_type": "code",
   "execution_count": 49,
   "metadata": {},
   "outputs": [],
   "source": [
    "def knn():\n",
    "    error = []\n",
    "    for i in range(1, 40):\n",
    "        knn = KNeighborsRegressor(n_neighbors=i)\n",
    "        knn.fit(x_train, y_train)\n",
    "        pred_i = knn.predict(x_test)\n",
    "        mse = metrics.mean_squared_error(y_test, pred_i, squared = False)\n",
    "        error.append(mse)\n",
    "    plt.figure(figsize=(12, 6))\n",
    "    plt.plot(range(1, 40), error, color='red', \n",
    "            linestyle='dashed', marker='o',\n",
    "            markerfacecolor='blue', markersize=10)\n",
    "    plt.title('K Value kMSE')\n",
    "    plt.xlabel('K Value')\n",
    "    plt.ylabel('Root Mean Squared Error')\n",
    "    plt.show()"
   ]
  },
  {
   "cell_type": "code",
   "execution_count": 50,
   "metadata": {},
   "outputs": [
    {
     "data": {
      "image/png": "[encoded data removed]",
      "text/plain": [
       "<Figure size 1200x600 with 1 Axes>"
      ]
     },
     "metadata": {},
     "output_type": "display_data"
    }
   ],
   "source": [
    "knn()"
   ]
  },
  {
   "cell_type": "code",
   "execution_count": 51,
   "metadata": {},
   "outputs": [],
   "source": [
    "def regression(n):\n",
    "# Create regressor\n",
    "    clf = KNeighborsRegressor(8)\n",
    "    # Fit on the training set\n",
    "    clf.fit(x_train, y_train)\n",
    "    # Create predictions\n",
    "    pred = clf.predict(x_test)\n",
    "    # Print the accuracy and root mean square error\n",
    "    acc = clf.score(x_test,y_test)\n",
    "    rmse = metrics.mean_squared_error(y_test, pred, squared = False)\n",
    "    return(clf, acc, rmse)"
   ]
  },
  {
   "cell_type": "code",
   "execution_count": 52,
   "metadata": {},
   "outputs": [
    {
     "data": {
      "text/plain": [
       "(KNeighborsRegressor(n_neighbors=8), -0.05004846135207153, 0.47566131576536075)"
      ]
     },
     "execution_count": 52,
     "metadata": {},
     "output_type": "execute_result"
    }
   ],
   "source": [
    "regression(8)"
   ]
  },
  {
   "cell_type": "code",
   "execution_count": 53,
   "metadata": {},
   "outputs": [],
   "source": [
    "def decision_tree_grid_search(data, param_grid):\n",
    "    \"\"\"returns the parameters that give the best result among the ones in your param_grid\"\"\"\n",
    "    y = data['gravite_accident']\n",
    "    X = data.drop('gravite_accident', axis = 1)\n",
    "    regressor = tree.DecisionTreeRegressor()\n",
    "    grid = GridSearchCV(regressor, param_grid = param_grid, cv = 10,verbose = 1, n_jobs = -1)\n",
    "    grid.fit(X,y)\n",
    "    return grid.best_params_\n",
    "\n",
    "def Decision_Tree(max_depth, min_samples_leaf, min_samples_split):\n",
    "    \"\"\"returns RMSE and R2 for decision tree\"\"\"\n",
    "    regressor = tree.DecisionTreeRegressor(\n",
    "    max_depth = max_depth,\n",
    "    min_samples_leaf = min_samples_leaf,\n",
    "    min_samples_split = min_samples_split)\n",
    "    regressor = regressor.fit(x_train, y_train)\n",
    "    y_pred = regressor.predict(x_test)\n",
    "    RMSE = np.sqrt(metrics.mean_squared_error(y_test, y_pred))\n",
    "    R2 = metrics.r2_score(y_test,y_pred)\n",
    "    return regressor, R2, RMSE"
   ]
  },
  {
   "cell_type": "code",
   "execution_count": 54,
   "metadata": {},
   "outputs": [],
   "source": [
    "param_grid = {'max_depth':[2,3,4,5,6,8,10,12],\"min_samples_split\": range(1,10), 'min_samples_leaf':range(1,5)}\n",
    "\n",
    "#print(decision_tree_grid_search(df, param_grid))  "
   ]
  },
  {
   "cell_type": "code",
   "execution_count": 55,
   "metadata": {},
   "outputs": [
    {
     "data": {
      "text/plain": [
       "(DecisionTreeRegressor(max_depth=3, min_samples_leaf=4),\n",
       " 0.02453310595647107,\n",
       " 0.45845786621538986)"
      ]
     },
     "execution_count": 55,
     "metadata": {},
     "output_type": "execute_result"
    }
   ],
   "source": [
    "Decision_Tree(max_depth = 3, min_samples_leaf = 4, min_samples_split = 2)"
   ]
  },
  {
   "cell_type": "code",
   "execution_count": 56,
   "metadata": {},
   "outputs": [],
   "source": [
    "def Grid_search(train, param_grid):\n",
    "    \"\"\"returns the parameters that give the best result among the ones in your param_grid\"\"\"    \n",
    "    # Create the parameter grid based on the results of random search \n",
    "    y = train['gravite_accident']\n",
    "    X = train.drop('gravite_accident', axis = 1)\n",
    "    # Create a based model\n",
    "    rf = RandomForestRegressor()\n",
    "    # Instantiate the grid search model\n",
    "    grid_search = GridSearchCV(estimator = rf, param_grid = param_grid, \n",
    "                            cv = 3, n_jobs = -1, verbose = 2)\n",
    "    grid_search.fit(X, y)\n",
    "    return grid_search.best_params_\n",
    "\n",
    "def Random_Forest( max_depth, max_features, n_estimators):\n",
    "    \"\"\"returns RMSE and R2 for random forest\"\"\"\n",
    "    regressor = RandomForestRegressor(bootstrap = True,\n",
    "                max_depth = max_depth,\n",
    "                max_features = max_features,\n",
    "                n_estimators = n_estimators)\n",
    "    regressor = regressor.fit(x_train, y_train)\n",
    "    y_pred = regressor.predict(x_test)\n",
    "    RMSE = np.sqrt(metrics.mean_squared_error(y_test, y_pred))\n",
    "    R2 = metrics.r2_score(y_test,y_pred)\n",
    "    return regressor, R2, RMSE\n",
    "\n",
    "\n",
    "param_grid = {\n",
    "        'max_depth': [44, 45, 46, 47, 48, 49],\n",
    "        'n_estimators': [850, 875, 900, 925]\n",
    "    }"
   ]
  },
  {
   "cell_type": "code",
   "execution_count": 57,
   "metadata": {},
   "outputs": [],
   "source": [
    "#Grid_search(df, param_grid)"
   ]
  },
  {
   "cell_type": "code",
   "execution_count": 58,
   "metadata": {},
   "outputs": [
    {
     "data": {
      "text/plain": [
       "(RandomForestRegressor(max_depth=48, max_features='sqrt', n_estimators=900),\n",
       " -0.06996883589435265,\n",
       " 0.480151981759194)"
      ]
     },
     "execution_count": 58,
     "metadata": {},
     "output_type": "execute_result"
    }
   ],
   "source": [
    "Random_Forest(max_depth = 48, max_features = 'sqrt', n_estimators = 900)"
   ]
  },
  {
   "cell_type": "code",
   "execution_count": 59,
   "metadata": {},
   "outputs": [],
   "source": [
    "# Ecrire fonction pour prédire une gravité à partir d'un modèle fixé (donc prendre avant le one hot etc)\n",
    "# Faire vis avec la répartition piste_cyclable"
   ]
  },
  {
   "cell_type": "markdown",
   "metadata": {},
   "source": [
    "### Predictions"
   ]
  },
  {
   "cell_type": "code",
   "execution_count": 60,
   "metadata": {},
   "outputs": [],
   "source": [
    "def check(entry,categ,value):\n",
    "    one_hot_encoder=[]\n",
    "    for k in range(len(template)):\n",
    "        if template[k][:len(categ)]==categ:\n",
    "            if template[k][len(categ):]==value:\n",
    "                one_hot_encoder.append(1)\n",
    "            else:\n",
    "                one_hot_encoder.append(0)\n",
    "    return one_hot_encoder\n",
    "\n",
    "def one_hot_encode(entry):\n",
    "    L=[]\n",
    "    L.append(entry[0]) #jour \n",
    "    L.append(entry[4]) #nb voies\n",
    "    L.append(entry[7]) #age\n",
    "    \n",
    "    L+=check(entry,\"luminosite_\",entry[1])\n",
    "\n",
    "    L+=check(entry,\"type_route_\",entry[3])\n",
    "\n",
    "    L+=check(entry,\"conditions_atmosperiques_\",entry[2])\n",
    "\n",
    "    L+=check(entry,\"categorie_usager_\",entry[5])\n",
    "\n",
    "    L+=check(entry,\"sexe_\",entry[6])\n",
    "\n",
    "    L+=check(entry,\"arrondissement_\",entry[9])\n",
    "\n",
    "    L+=check(entry,\"piste_cyclable_\",entry[8])\n",
    "\n",
    "    return L\n",
    "\n",
    "#one_hot_encode([0.98, 'Plein jour', 'Normale', \"Autre\",'1', 'Piéton', 'M', 20,'True', 13])"
   ]
  },
  {
   "cell_type": "code",
   "execution_count": 61,
   "metadata": {},
   "outputs": [],
   "source": [
    "def prediction(regressor, features:list):\n",
    "\n",
    "   x_val = pd.DataFrame(columns=template)\n",
    "   x_val.loc[1] = one_hot_encode(features)\n",
    "\n",
    "   scaler = StandardScaler()\n",
    "   to_scale = ['jour', 'nb_voies', 'age']\n",
    "   for col in to_scale:\n",
    "      x_val[col] = scaler.fit_transform(np.array(x_val[col]).reshape(-1,1))\n",
    "\n",
    "   y_pred = regressor.predict(x_val)[0]\n",
    "   print(\"La gravité prédite de l'accident, allant de 0 (Blessé léger) à 3 (Tué) est de {}\".format(y_pred))\n",
    "   return(y_pred)"
   ]
  },
  {
   "cell_type": "code",
   "execution_count": 62,
   "metadata": {},
   "outputs": [
    {
     "data": {
      "text/plain": [
       "Index(['jour', 'nb_voies', 'age', 'luminosite_Crépuscule ou aube',\n",
       "       'luminosite_Nuit avec éclairage public allumé',\n",
       "       'luminosite_Nuit avec éclairage public non allumé',\n",
       "       'luminosite_Nuit sans éclairage public', 'luminosite_Plein jour',\n",
       "       'type_route_Autre', 'type_route_Hors réseau public',\n",
       "       'type_route_Parc de stationnement ouvert à la circulation publique',\n",
       "       'type_route_Route Départementale', 'type_route_Route Nationale',\n",
       "       'type_route_Voie Communale', 'conditions_atmosperiques_Autre',\n",
       "       'conditions_atmosperiques_Brouillard - fumée',\n",
       "       'conditions_atmosperiques_Neige - grêle',\n",
       "       'conditions_atmosperiques_Normale',\n",
       "       'conditions_atmosperiques_Pluie forte',\n",
       "       'conditions_atmosperiques_Pluie légère',\n",
       "       'conditions_atmosperiques_Temps couvert',\n",
       "       'conditions_atmosperiques_Temps éblouissant',\n",
       "       'conditions_atmosperiques_Vent fort - tempête',\n",
       "       'categorie_usager_Conducteur', 'categorie_usager_Passager',\n",
       "       'categorie_usager_Piéton',\n",
       "       'categorie_usager_Piéton en roller ou en trottinette', 'sexe_F',\n",
       "       'sexe_M', 'arrondissement_01', 'arrondissement_02', 'arrondissement_03',\n",
       "       'arrondissement_04', 'arrondissement_05', 'arrondissement_06',\n",
       "       'arrondissement_07', 'arrondissement_08', 'arrondissement_09',\n",
       "       'arrondissement_10', 'arrondissement_11', 'arrondissement_12',\n",
       "       'arrondissement_13', 'arrondissement_14', 'arrondissement_15',\n",
       "       'arrondissement_16', 'arrondissement_17', 'arrondissement_18',\n",
       "       'arrondissement_19', 'arrondissement_20', 'piste_cyclable_False',\n",
       "       'piste_cyclable_True'],\n",
       "      dtype='object')"
      ]
     },
     "execution_count": 62,
     "metadata": {},
     "output_type": "execute_result"
    }
   ],
   "source": [
    "x_train.columns"
   ]
  },
  {
   "cell_type": "code",
   "execution_count": 64,
   "metadata": {},
   "outputs": [
    {
     "name": "stdout",
     "output_type": "stream",
     "text": [
      "La gravité prédite de l'accident, allant de 0 (Blessé léger) à 3 (Tué) est de 0.9946091644204852\n",
      "La gravité prédite de l'accident, allant de 0 (Blessé léger) à 3 (Tué) est de 0.8972230174634984\n"
     ]
    },
    {
     "data": {
      "text/plain": [
       "0.8972230174634984"
      ]
     },
     "execution_count": 64,
     "metadata": {},
     "output_type": "execute_result"
    }
   ],
   "source": [
    "#format de base : [\"jour\", 'luminosite', 'conditions_atmosperiques', 'type_route',\n",
    "# 'nb_voies', 'categorie_usager', 'sexe', 'age', 'piste_cyclable', \"arrondissement\"]\n",
    "features_low = [1, 'Plein jour', 'Normale', \"Autre\", 1, 'Piéton', 'F', 50, \"True\", \"1\"]\n",
    "features_high = [5, 'Nuit sans éclairage public', 'Normale', \"Autre\", 2, 'Conducteur', 'M', 20, \"False\", \"20\"]\n",
    "prediction(Decision_Tree(max_depth = 3, min_samples_leaf = 4, min_samples_split = 2)[0], features_low)\n",
    "#prediction(Linear()[0], features)\n",
    "#prediction(regression(8)[0], features_low)\n",
    "#prediction(Random_Forest(max_depth = 48, max_features = 'sqrt', n_estimators = 900)[0], features_low)\n",
    "prediction(Decision_Tree(max_depth = 3, min_samples_leaf = 4, min_samples_split = 2)[0], features_high)\n",
    "#prediction(Linear()[0], features)\n",
    "#prediction(regression(8)[0], features_high)\n",
    "#prediction(Random_Forest(max_depth = 48, max_features = 'sqrt', n_estimators = 900)[0], features_high)"
   ]
  },
  {
   "cell_type": "code",
   "execution_count": null,
   "metadata": {},
   "outputs": [],
   "source": []
  },
  {
   "cell_type": "code",
   "execution_count": null,
   "metadata": {},
   "outputs": [],
   "source": []
  }
 ],
 "metadata": {
  "kernelspec": {
   "display_name": "Python 3 (ipykernel)",
   "language": "python",
   "name": "python3"
  },
  "language_info": {
   "codemirror_mode": {
    "name": "ipython",
    "version": 3
   },
   "file_extension": ".py",
   "mimetype": "text/x-python",
   "name": "python",
   "nbconvert_exporter": "python",
   "pygments_lexer": "ipython3",
   "version": "3.10.8"
  },
  "vscode": {
   "interpreter": {
    "hash": "aee8b7b246df8f9039afb4144a1f6fd8d2ca17a180786b69acc140d282b71a49"
   }
  }
 },
 "nbformat": 4,
 "nbformat_minor": 4
}
