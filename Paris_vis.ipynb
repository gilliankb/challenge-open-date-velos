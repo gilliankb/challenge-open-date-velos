{
 "cells": [
  {
   "cell_type": "markdown",
   "metadata": {},
   "source": [
    "### Import modules"
   ]
  },
  {
   "cell_type": "code",
   "execution_count": 153,
   "metadata": {},
   "outputs": [],
   "source": [
    "\"\"\"This file is meant to explore and visualize the key takeaways from the paris bike count database found\n",
    "at the following link : \n",
    "https://www.data.gouv.fr/fr/datasets/comptage-velo-donnees-compteurs/\"\"\"\n",
    "\n",
    "# Import section\n",
    "import pandas as pd\n",
    "import matplotlib.pyplot as plt\n",
    "from IPython.display import display\n",
    "import folium\n",
    "from folium.plugins import HeatMap\n",
    "import datetime\n",
    "import urllib\n",
    "import requests\n",
    "from tqdm import tqdm\n"
   ]
  },
  {
   "cell_type": "markdown",
   "metadata": {},
   "source": [
    "### Read data"
   ]
  },
  {
   "cell_type": "code",
   "execution_count": 3,
   "metadata": {},
   "outputs": [],
   "source": [
    "# Read data\n",
    "\n",
    "df = pd.read_csv(\n",
    "    \"data/comptage-velo-donnees-compteurs.csv\",\n",
    "    sep=\";\",\n",
    "    usecols=[\n",
    "        \"id_compteur\",\n",
    "        \"nom_compteur\",\n",
    "        \"id\",\n",
    "        \"name\",\n",
    "        \"sum_counts\",\n",
    "        \"date\",\n",
    "        \"installation_date\",\n",
    "        \"coordinates\",\n",
    "        \"counter\",\n",
    "        \"mois_annee_comptage\",\n",
    "    ],\n",
    "    #nrows =100\n",
    ")\n",
    "\n",
    "df[\"date\"] = pd.to_datetime(df[\"date\"], utc=True)\n",
    "\n",
    "df[[\"Latitude\", \"Longitude\"]] = df.coordinates.str.split(\",\", expand=True).astype(\n",
    "    \"float\"\n",
    ")"
   ]
  },
  {
   "cell_type": "code",
   "execution_count": 4,
   "metadata": {},
   "outputs": [
    {
     "data": {
      "text/html": [
       "<div>\n",
       "<style scoped>\n",
       "    .dataframe tbody tr th:only-of-type {\n",
       "        vertical-align: middle;\n",
       "    }\n",
       "\n",
       "    .dataframe tbody tr th {\n",
       "        vertical-align: top;\n",
       "    }\n",
       "\n",
       "    .dataframe thead th {\n",
       "        text-align: right;\n",
       "    }\n",
       "</style>\n",
       "<table border=\"1\" class=\"dataframe\">\n",
       "  <thead>\n",
       "    <tr style=\"text-align: right;\">\n",
       "      <th></th>\n",
       "      <th>id_compteur</th>\n",
       "      <th>nom_compteur</th>\n",
       "      <th>id</th>\n",
       "      <th>name</th>\n",
       "      <th>sum_counts</th>\n",
       "      <th>date</th>\n",
       "      <th>installation_date</th>\n",
       "      <th>coordinates</th>\n",
       "      <th>counter</th>\n",
       "      <th>mois_annee_comptage</th>\n",
       "      <th>Latitude</th>\n",
       "      <th>Longitude</th>\n",
       "    </tr>\n",
       "  </thead>\n",
       "  <tbody>\n",
       "    <tr>\n",
       "      <th>0</th>\n",
       "      <td>100003096-353242251</td>\n",
       "      <td>97 avenue Denfert Rochereau SO-NE</td>\n",
       "      <td>100003096</td>\n",
       "      <td>97 avenue Denfert Rochereau</td>\n",
       "      <td>0.0</td>\n",
       "      <td>2021-12-01 02:00:00+00:00</td>\n",
       "      <td>2012-02-22</td>\n",
       "      <td>48.83504,2.33314</td>\n",
       "      <td>X2H20012081</td>\n",
       "      <td>2021-12</td>\n",
       "      <td>48.83504</td>\n",
       "      <td>2.33314</td>\n",
       "    </tr>\n",
       "    <tr>\n",
       "      <th>1</th>\n",
       "      <td>100003096-353242251</td>\n",
       "      <td>97 avenue Denfert Rochereau SO-NE</td>\n",
       "      <td>100003096</td>\n",
       "      <td>97 avenue Denfert Rochereau</td>\n",
       "      <td>2.0</td>\n",
       "      <td>2021-12-01 03:00:00+00:00</td>\n",
       "      <td>2012-02-22</td>\n",
       "      <td>48.83504,2.33314</td>\n",
       "      <td>X2H20012081</td>\n",
       "      <td>2021-12</td>\n",
       "      <td>48.83504</td>\n",
       "      <td>2.33314</td>\n",
       "    </tr>\n",
       "    <tr>\n",
       "      <th>2</th>\n",
       "      <td>100003096-353242251</td>\n",
       "      <td>97 avenue Denfert Rochereau SO-NE</td>\n",
       "      <td>100003096</td>\n",
       "      <td>97 avenue Denfert Rochereau</td>\n",
       "      <td>0.0</td>\n",
       "      <td>2021-12-01 04:00:00+00:00</td>\n",
       "      <td>2012-02-22</td>\n",
       "      <td>48.83504,2.33314</td>\n",
       "      <td>X2H20012081</td>\n",
       "      <td>2021-12</td>\n",
       "      <td>48.83504</td>\n",
       "      <td>2.33314</td>\n",
       "    </tr>\n",
       "    <tr>\n",
       "      <th>3</th>\n",
       "      <td>100003096-353242251</td>\n",
       "      <td>97 avenue Denfert Rochereau SO-NE</td>\n",
       "      <td>100003096</td>\n",
       "      <td>97 avenue Denfert Rochereau</td>\n",
       "      <td>213.0</td>\n",
       "      <td>2021-12-01 07:00:00+00:00</td>\n",
       "      <td>2012-02-22</td>\n",
       "      <td>48.83504,2.33314</td>\n",
       "      <td>X2H20012081</td>\n",
       "      <td>2021-12</td>\n",
       "      <td>48.83504</td>\n",
       "      <td>2.33314</td>\n",
       "    </tr>\n",
       "    <tr>\n",
       "      <th>4</th>\n",
       "      <td>100003096-353242251</td>\n",
       "      <td>97 avenue Denfert Rochereau SO-NE</td>\n",
       "      <td>100003096</td>\n",
       "      <td>97 avenue Denfert Rochereau</td>\n",
       "      <td>84.0</td>\n",
       "      <td>2021-12-01 06:00:00+00:00</td>\n",
       "      <td>2012-02-22</td>\n",
       "      <td>48.83504,2.33314</td>\n",
       "      <td>X2H20012081</td>\n",
       "      <td>2021-12</td>\n",
       "      <td>48.83504</td>\n",
       "      <td>2.33314</td>\n",
       "    </tr>\n",
       "    <tr>\n",
       "      <th>...</th>\n",
       "      <td>...</td>\n",
       "      <td>...</td>\n",
       "      <td>...</td>\n",
       "      <td>...</td>\n",
       "      <td>...</td>\n",
       "      <td>...</td>\n",
       "      <td>...</td>\n",
       "      <td>...</td>\n",
       "      <td>...</td>\n",
       "      <td>...</td>\n",
       "      <td>...</td>\n",
       "      <td>...</td>\n",
       "    </tr>\n",
       "    <tr>\n",
       "      <th>915147</th>\n",
       "      <td>300021320-353293614</td>\n",
       "      <td>69 Boulevard Ornano N-S</td>\n",
       "      <td>300021320</td>\n",
       "      <td>69 Boulevard Ornano</td>\n",
       "      <td>0.0</td>\n",
       "      <td>2023-01-17 09:00:00+00:00</td>\n",
       "      <td>2021-11-30</td>\n",
       "      <td>48.89683,2.34521</td>\n",
       "      <td>Y2H21110997</td>\n",
       "      <td>2023-01</td>\n",
       "      <td>48.89683</td>\n",
       "      <td>2.34521</td>\n",
       "    </tr>\n",
       "    <tr>\n",
       "      <th>915148</th>\n",
       "      <td>300021320-353293614</td>\n",
       "      <td>69 Boulevard Ornano N-S</td>\n",
       "      <td>300021320</td>\n",
       "      <td>69 Boulevard Ornano</td>\n",
       "      <td>0.0</td>\n",
       "      <td>2023-01-17 10:00:00+00:00</td>\n",
       "      <td>2021-11-30</td>\n",
       "      <td>48.89683,2.34521</td>\n",
       "      <td>Y2H21110997</td>\n",
       "      <td>2023-01</td>\n",
       "      <td>48.89683</td>\n",
       "      <td>2.34521</td>\n",
       "    </tr>\n",
       "    <tr>\n",
       "      <th>915149</th>\n",
       "      <td>300021320-353293614</td>\n",
       "      <td>69 Boulevard Ornano N-S</td>\n",
       "      <td>300021320</td>\n",
       "      <td>69 Boulevard Ornano</td>\n",
       "      <td>0.0</td>\n",
       "      <td>2023-01-17 14:00:00+00:00</td>\n",
       "      <td>2021-11-30</td>\n",
       "      <td>48.89683,2.34521</td>\n",
       "      <td>Y2H21110997</td>\n",
       "      <td>2023-01</td>\n",
       "      <td>48.89683</td>\n",
       "      <td>2.34521</td>\n",
       "    </tr>\n",
       "    <tr>\n",
       "      <th>915150</th>\n",
       "      <td>300021320-353293614</td>\n",
       "      <td>69 Boulevard Ornano N-S</td>\n",
       "      <td>300021320</td>\n",
       "      <td>69 Boulevard Ornano</td>\n",
       "      <td>0.0</td>\n",
       "      <td>2023-01-17 15:00:00+00:00</td>\n",
       "      <td>2021-11-30</td>\n",
       "      <td>48.89683,2.34521</td>\n",
       "      <td>Y2H21110997</td>\n",
       "      <td>2023-01</td>\n",
       "      <td>48.89683</td>\n",
       "      <td>2.34521</td>\n",
       "    </tr>\n",
       "    <tr>\n",
       "      <th>915151</th>\n",
       "      <td>300021320-353293614</td>\n",
       "      <td>69 Boulevard Ornano N-S</td>\n",
       "      <td>300021320</td>\n",
       "      <td>69 Boulevard Ornano</td>\n",
       "      <td>0.0</td>\n",
       "      <td>2023-01-17 16:00:00+00:00</td>\n",
       "      <td>2021-11-30</td>\n",
       "      <td>48.89683,2.34521</td>\n",
       "      <td>Y2H21110997</td>\n",
       "      <td>2023-01</td>\n",
       "      <td>48.89683</td>\n",
       "      <td>2.34521</td>\n",
       "    </tr>\n",
       "  </tbody>\n",
       "</table>\n",
       "<p>915152 rows × 12 columns</p>\n",
       "</div>"
      ],
      "text/plain": [
       "                id_compteur                       nom_compteur         id  \\\n",
       "0       100003096-353242251  97 avenue Denfert Rochereau SO-NE  100003096   \n",
       "1       100003096-353242251  97 avenue Denfert Rochereau SO-NE  100003096   \n",
       "2       100003096-353242251  97 avenue Denfert Rochereau SO-NE  100003096   \n",
       "3       100003096-353242251  97 avenue Denfert Rochereau SO-NE  100003096   \n",
       "4       100003096-353242251  97 avenue Denfert Rochereau SO-NE  100003096   \n",
       "...                     ...                                ...        ...   \n",
       "915147  300021320-353293614            69 Boulevard Ornano N-S  300021320   \n",
       "915148  300021320-353293614            69 Boulevard Ornano N-S  300021320   \n",
       "915149  300021320-353293614            69 Boulevard Ornano N-S  300021320   \n",
       "915150  300021320-353293614            69 Boulevard Ornano N-S  300021320   \n",
       "915151  300021320-353293614            69 Boulevard Ornano N-S  300021320   \n",
       "\n",
       "                               name  sum_counts                      date  \\\n",
       "0       97 avenue Denfert Rochereau         0.0 2021-12-01 02:00:00+00:00   \n",
       "1       97 avenue Denfert Rochereau         2.0 2021-12-01 03:00:00+00:00   \n",
       "2       97 avenue Denfert Rochereau         0.0 2021-12-01 04:00:00+00:00   \n",
       "3       97 avenue Denfert Rochereau       213.0 2021-12-01 07:00:00+00:00   \n",
       "4       97 avenue Denfert Rochereau        84.0 2021-12-01 06:00:00+00:00   \n",
       "...                             ...         ...                       ...   \n",
       "915147          69 Boulevard Ornano         0.0 2023-01-17 09:00:00+00:00   \n",
       "915148          69 Boulevard Ornano         0.0 2023-01-17 10:00:00+00:00   \n",
       "915149          69 Boulevard Ornano         0.0 2023-01-17 14:00:00+00:00   \n",
       "915150          69 Boulevard Ornano         0.0 2023-01-17 15:00:00+00:00   \n",
       "915151          69 Boulevard Ornano         0.0 2023-01-17 16:00:00+00:00   \n",
       "\n",
       "       installation_date       coordinates      counter mois_annee_comptage  \\\n",
       "0             2012-02-22  48.83504,2.33314  X2H20012081             2021-12   \n",
       "1             2012-02-22  48.83504,2.33314  X2H20012081             2021-12   \n",
       "2             2012-02-22  48.83504,2.33314  X2H20012081             2021-12   \n",
       "3             2012-02-22  48.83504,2.33314  X2H20012081             2021-12   \n",
       "4             2012-02-22  48.83504,2.33314  X2H20012081             2021-12   \n",
       "...                  ...               ...          ...                 ...   \n",
       "915147        2021-11-30  48.89683,2.34521  Y2H21110997             2023-01   \n",
       "915148        2021-11-30  48.89683,2.34521  Y2H21110997             2023-01   \n",
       "915149        2021-11-30  48.89683,2.34521  Y2H21110997             2023-01   \n",
       "915150        2021-11-30  48.89683,2.34521  Y2H21110997             2023-01   \n",
       "915151        2021-11-30  48.89683,2.34521  Y2H21110997             2023-01   \n",
       "\n",
       "        Latitude  Longitude  \n",
       "0       48.83504    2.33314  \n",
       "1       48.83504    2.33314  \n",
       "2       48.83504    2.33314  \n",
       "3       48.83504    2.33314  \n",
       "4       48.83504    2.33314  \n",
       "...          ...        ...  \n",
       "915147  48.89683    2.34521  \n",
       "915148  48.89683    2.34521  \n",
       "915149  48.89683    2.34521  \n",
       "915150  48.89683    2.34521  \n",
       "915151  48.89683    2.34521  \n",
       "\n",
       "[915152 rows x 12 columns]"
      ]
     },
     "execution_count": 4,
     "metadata": {},
     "output_type": "execute_result"
    }
   ],
   "source": [
    "df"
   ]
  },
  {
   "cell_type": "markdown",
   "metadata": {},
   "source": [
    "### Data exploration"
   ]
  },
  {
   "cell_type": "code",
   "execution_count": 3,
   "metadata": {},
   "outputs": [
    {
     "name": "stdout",
     "output_type": "stream",
     "text": [
      "The dataframe has the following columns ['id_compteur', 'nom_compteur', 'id', 'name', 'sum_counts', 'date', 'installation_date', 'coordinates', 'counter', 'mois_annee_comptage', 'Latitude', 'Longitude']\n",
      "The average bike count per hour is 6328.746474459417.\n"
     ]
    }
   ],
   "source": [
    "print(\"The dataframe has the following columns\", list(df.columns))\n",
    "# We wish to compute the average hourly bike count over our dataframe\n",
    "# date, sum counts.\n",
    "temp = df.groupby([\"date\"])[\"sum_counts\"].sum()\n",
    "print(\"The average bike count per hour is {}.\".format(temp.mean()))"
   ]
  },
  {
   "cell_type": "markdown",
   "metadata": {},
   "source": [
    "### Data visualization"
   ]
  },
  {
   "cell_type": "code",
   "execution_count": 4,
   "metadata": {},
   "outputs": [
    {
     "data": {
      "text/plain": [
       "<matplotlib.axes._subplots.AxesSubplot at 0x7f9dfecfc190>"
      ]
     },
     "execution_count": 4,
     "metadata": {},
     "output_type": "execute_result"
    },
    {
     "data": {
      "image/png": "[encoded data removed]",
      "text/plain": [
       "<Figure size 432x288 with 1 Axes>"
      ]
     },
     "metadata": {
      "needs_background": "light"
     },
     "output_type": "display_data"
    }
   ],
   "source": [
    "# We wish to plot the monthly bike count over time.\n",
    "temp = df.groupby(pd.Grouper(key=\"date\", freq=\"M\"))[\"sum_counts\"].sum()\n",
    "fig = temp.plot(kind=\"line\")\n",
    "fig"
   ]
  },
  {
   "cell_type": "code",
   "execution_count": 5,
   "metadata": {},
   "outputs": [
    {
     "data": {
      "text/html": [
       "<div style=\"width:100%;\"><div style=\"position:relative;width:100%;height:0;padding-bottom:60%;\"><span style=\"color:#565656\">Make this Notebook Trusted to load map: File -> Trust Notebook</span><iframe srcdoc=\"&lt;!DOCTYPE html&gt;\n",
       "&lt;html&gt;\n",
       "&lt;head&gt;\n",
       "    \n",
       "    &lt;meta http-equiv=&quot;content-type&quot; content=&quot;text/html; charset=UTF-8&quot; /&gt;\n",
       "    \n",
       "        &lt;script&gt;\n",
       "            L_NO_TOUCH = false;\n",
       "            L_DISABLE_3D = false;\n",
       "        &lt;/script&gt;\n",
       "    \n",
       "    &lt;style&gt;html, body {width: 100%;height: 100%;margin: 0;padding: 0;}&lt;/style&gt;\n",
       "    &lt;style&gt;#map {position:absolute;top:0;bottom:0;right:0;left:0;}&lt;/style&gt;\n",
       "    &lt;script src=&quot;https://cdn.jsdelivr.net/npm/leaflet@1.9.3/dist/leaflet.js&quot;&gt;&lt;/script&gt;\n",
       "    &lt;script src=&quot;https://code.jquery.com/jquery-1.12.4.min.js&quot;&gt;&lt;/script&gt;\n",
       "    &lt;script src=&quot;https://cdn.jsdelivr.net/npm/bootstrap@5.2.2/dist/js/bootstrap.bundle.min.js&quot;&gt;&lt;/script&gt;\n",
       "    &lt;script src=&quot;https://cdnjs.cloudflare.com/ajax/libs/Leaflet.awesome-markers/2.0.2/leaflet.awesome-markers.js&quot;&gt;&lt;/script&gt;\n",
       "    &lt;link rel=&quot;stylesheet&quot; href=&quot;https://cdn.jsdelivr.net/npm/leaflet@1.9.3/dist/leaflet.css&quot;/&gt;\n",
       "    &lt;link rel=&quot;stylesheet&quot; href=&quot;https://cdn.jsdelivr.net/npm/bootstrap@5.2.2/dist/css/bootstrap.min.css&quot;/&gt;\n",
       "    &lt;link rel=&quot;stylesheet&quot; href=&quot;https://netdna.bootstrapcdn.com/bootstrap/3.0.0/css/bootstrap.min.css&quot;/&gt;\n",
       "    &lt;link rel=&quot;stylesheet&quot; href=&quot;https://cdn.jsdelivr.net/npm/@fortawesome/fontawesome-free@6.2.0/css/all.min.css&quot;/&gt;\n",
       "    &lt;link rel=&quot;stylesheet&quot; href=&quot;https://cdnjs.cloudflare.com/ajax/libs/Leaflet.awesome-markers/2.0.2/leaflet.awesome-markers.css&quot;/&gt;\n",
       "    &lt;link rel=&quot;stylesheet&quot; href=&quot;https://cdn.jsdelivr.net/gh/python-visualization/folium/folium/templates/leaflet.awesome.rotate.min.css&quot;/&gt;\n",
       "    \n",
       "            &lt;meta name=&quot;viewport&quot; content=&quot;width=device-width,\n",
       "                initial-scale=1.0, maximum-scale=1.0, user-scalable=no&quot; /&gt;\n",
       "            &lt;style&gt;\n",
       "                #map_05388ed9ff2c282e747e1b19ee472000 {\n",
       "                    position: relative;\n",
       "                    width: 100.0%;\n",
       "                    height: 100.0%;\n",
       "                    left: 0.0%;\n",
       "                    top: 0.0%;\n",
       "                }\n",
       "                .leaflet-container { font-size: 1rem; }\n",
       "            &lt;/style&gt;\n",
       "        \n",
       "    &lt;script src=&quot;https://cdn.jsdelivr.net/gh/python-visualization/folium@main/folium/templates/leaflet_heat.min.js&quot;&gt;&lt;/script&gt;\n",
       "&lt;/head&gt;\n",
       "&lt;body&gt;\n",
       "    \n",
       "    \n",
       "            &lt;div class=&quot;folium-map&quot; id=&quot;map_05388ed9ff2c282e747e1b19ee472000&quot; &gt;&lt;/div&gt;\n",
       "        \n",
       "&lt;/body&gt;\n",
       "&lt;script&gt;\n",
       "    \n",
       "    \n",
       "            var map_05388ed9ff2c282e747e1b19ee472000 = L.map(\n",
       "                &quot;map_05388ed9ff2c282e747e1b19ee472000&quot;,\n",
       "                {\n",
       "                    center: [48.864716, 2.349014],\n",
       "                    crs: L.CRS.EPSG3857,\n",
       "                    zoom: 10,\n",
       "                    zoomControl: true,\n",
       "                    preferCanvas: false,\n",
       "                }\n",
       "            );\n",
       "\n",
       "            \n",
       "\n",
       "        \n",
       "    \n",
       "            var tile_layer_ff2bc5a43dc9ea1854a2032de21fabfd = L.tileLayer(\n",
       "                &quot;https://{s}.tile.openstreetmap.org/{z}/{x}/{y}.png&quot;,\n",
       "                {&quot;attribution&quot;: &quot;Data by \\u0026copy; \\u003ca target=\\&quot;_blank\\&quot; href=\\&quot;http://openstreetmap.org\\&quot;\\u003eOpenStreetMap\\u003c/a\\u003e, under \\u003ca target=\\&quot;_blank\\&quot; href=\\&quot;http://www.openstreetmap.org/copyright\\&quot;\\u003eODbL\\u003c/a\\u003e.&quot;, &quot;detectRetina&quot;: false, &quot;maxNativeZoom&quot;: 18, &quot;maxZoom&quot;: 18, &quot;minZoom&quot;: 0, &quot;noWrap&quot;: false, &quot;opacity&quot;: 1, &quot;subdomains&quot;: &quot;abc&quot;, &quot;tms&quot;: false}\n",
       "            ).addTo(map_05388ed9ff2c282e747e1b19ee472000);\n",
       "        \n",
       "    \n",
       "            var heat_map_5d1d004501415b2e7a1a2e95adfe848d = L.heatLayer(\n",
       "                [[48.82009, 2.3588], [48.82048, 2.35873], [48.82108, 2.32537], [48.82624, 2.30281], [48.82639, 2.38448], [48.82682, 2.38465], [48.829523, 2.38699], [48.830331, 2.400551], [48.83043, 2.35335], [48.83082, 2.35317], [48.83428, 2.26526], [48.83436, 2.377], [48.83504, 2.33314], [48.83505, 2.33333], [48.83848, 2.37587], [48.83985, 2.30202], [48.83992, 2.26708], [48.83994, 2.26692], [48.84017, 2.33438], [48.84201, 2.36729], [48.84209, 2.30115], [48.84222, 2.30102], [48.84223, 2.36811], [48.843435, 2.383378], [48.846099, 2.375456], [48.84613, 2.37559], [48.84641, 2.31524], [48.84837, 2.27596], [48.85013, 2.35423], [48.851131, 2.345678], [48.851525, 2.343298], [48.85174, 2.28593], [48.85372, 2.35702], [48.85735, 2.35211], [48.860528, 2.388364], [48.86057, 2.38886], [48.86077, 2.37305], [48.860852, 2.372279], [48.86149, 2.37376], [48.86155, 2.37407], [48.86179, 2.32014], [48.86279, 2.31055], [48.86281, 2.31037], [48.8629, 2.3118], [48.8635, 2.32239], [48.86373, 2.31973], [48.86377, 2.35096], [48.86382, 2.32006], [48.86451, 2.40932], [48.86462, 2.31444], [48.86485, 2.40966], [48.86502, 2.35387], [48.86999, 2.30722], [48.86999, 2.30743], [48.87474, 2.29219], [48.8748, 2.2924], [48.87756, 2.35535], [48.87769, 2.35475], [48.87773, 2.3506], [48.87813, 2.3497], [48.88156, 2.28122], [48.88168, 2.28113], [48.88529, 2.32666], [48.889046, 2.374872], [48.88926, 2.37472], [48.890457, 2.368852], [48.89141, 2.38482], [48.89172, 2.38531], [48.896825, 2.345648], [48.89683, 2.34521], [48.89696, 2.34538]],\n",
       "                {&quot;blur&quot;: 15, &quot;maxZoom&quot;: 18, &quot;minOpacity&quot;: 0.5, &quot;radius&quot;: 25}\n",
       "            ).addTo(map_05388ed9ff2c282e747e1b19ee472000);\n",
       "        \n",
       "&lt;/script&gt;\n",
       "&lt;/html&gt;\" style=\"position:absolute;width:100%;height:100%;left:0;top:0;border:none !important;\" allowfullscreen webkitallowfullscreen mozallowfullscreen></iframe></div></div>"
      ],
      "text/plain": [
       "<folium.folium.Map at 0x10f2a9510>"
      ]
     },
     "execution_count": 5,
     "metadata": {},
     "output_type": "execute_result"
    }
   ],
   "source": [
    "# We wish to map the locations with the highest bike count on average.\n",
    "heatmap_df = df.groupby([\"Latitude\", \"Longitude\"])[\"sum_counts\"].sum()\n",
    "locations = heatmap_df.index\n",
    "weights = heatmap_df\n",
    "map_obj = folium.Map(location=[48.864716, 2.349014], zoom_start=10)\n",
    "HeatMap(locations, weights).add_to(map_obj)\n",
    "map_obj"
   ]
  },
  {
   "cell_type": "code",
   "execution_count": null,
   "metadata": {},
   "outputs": [],
   "source": []
  },
  {
   "cell_type": "code",
   "execution_count": 6,
   "metadata": {},
   "outputs": [
    {
     "data": {
      "text/plain": [
       "<matplotlib.axes._subplots.AxesSubplot at 0x7f9e2078e810>"
      ]
     },
     "execution_count": 6,
     "metadata": {},
     "output_type": "execute_result"
    },
    {
     "data": {
      "image/png": "[encoded data removed]",
      "text/plain": [
       "<Figure size 432x288 with 1 Axes>"
      ]
     },
     "metadata": {
      "needs_background": "light"
     },
     "output_type": "display_data"
    }
   ],
   "source": [
    "# We wish to plot the hourly bike count on average.\n",
    "def hourly(date):\n",
    "    return date.hour\n",
    "\n",
    "temp = df.copy()\n",
    "temp[\"hour\"] = temp[\"date\"].apply(hourly)\n",
    "temp = temp.groupby(\"hour\")[\"sum_counts\"].sum()\n",
    "fig = temp.plot(kind=\"line\")\n",
    "fig"
   ]
  },
  {
   "cell_type": "markdown",
   "metadata": {
    "tags": []
   },
   "source": [
    "### Merge informations for itinerary accidentology"
   ]
  },
  {
   "cell_type": "code",
   "execution_count": null,
   "metadata": {},
   "outputs": [
    {
     "data": {
      "text/plain": [
       "Y2H19070377    19816\n",
       "Y2H19070375    19816\n",
       "Y2H19070372    19816\n",
       "Y2H19070378    19816\n",
       "Y2H19070380    19816\n",
       "               ...  \n",
       "Y2H22053370     9389\n",
       "X2H20093888     8765\n",
       "Y2H21100756     7036\n",
       "Y2H20073268     3978\n",
       "Y2H20052701     3212\n",
       "Name: counter, Length: 67, dtype: int64"
      ]
     },
     "execution_count": 7,
     "metadata": {},
     "output_type": "execute_result"
    }
   ],
   "source": [
    "df.counter.value_counts()"
   ]
  },
  {
   "cell_type": "code",
   "execution_count": 19,
   "metadata": {},
   "outputs": [],
   "source": [
    "x, y = df.coordinates.unique()[0].split(\",\")"
   ]
  },
  {
   "cell_type": "code",
   "execution_count": 23,
   "metadata": {},
   "outputs": [],
   "source": [
    "coords = []\n",
    "for coord in df.coordinates.unique():\n",
    "    x, y = coord.split(\",\")\n",
    "    coords.append((float(x), float(y)))"
   ]
  },
  {
   "cell_type": "code",
   "execution_count": 218,
   "metadata": {},
   "outputs": [
    {
     "data": {
      "text/html": [
       "<div style=\"width:100%;\"><div style=\"position:relative;width:100%;height:0;padding-bottom:60%;\"><span style=\"color:#565656\">Make this Notebook Trusted to load map: File -> Trust Notebook</span><iframe srcdoc=\"&lt;!DOCTYPE html&gt;\n",
       "&lt;html&gt;\n",
       "&lt;head&gt;\n",
       "    \n",
       "    &lt;meta http-equiv=&quot;content-type&quot; content=&quot;text/html; charset=UTF-8&quot; /&gt;\n",
       "    \n",
       "        &lt;script&gt;\n",
       "            L_NO_TOUCH = false;\n",
       "            L_DISABLE_3D = false;\n",
       "        &lt;/script&gt;\n",
       "    \n",
       "    &lt;style&gt;html, body {width: 100%;height: 100%;margin: 0;padding: 0;}&lt;/style&gt;\n",
       "    &lt;style&gt;#map {position:absolute;top:0;bottom:0;right:0;left:0;}&lt;/style&gt;\n",
       "    &lt;script src=&quot;https://cdn.jsdelivr.net/npm/leaflet@1.9.3/dist/leaflet.js&quot;&gt;&lt;/script&gt;\n",
       "    &lt;script src=&quot;https://code.jquery.com/jquery-1.12.4.min.js&quot;&gt;&lt;/script&gt;\n",
       "    &lt;script src=&quot;https://cdn.jsdelivr.net/npm/bootstrap@5.2.2/dist/js/bootstrap.bundle.min.js&quot;&gt;&lt;/script&gt;\n",
       "    &lt;script src=&quot;https://cdnjs.cloudflare.com/ajax/libs/Leaflet.awesome-markers/2.0.2/leaflet.awesome-markers.js&quot;&gt;&lt;/script&gt;\n",
       "    &lt;link rel=&quot;stylesheet&quot; href=&quot;https://cdn.jsdelivr.net/npm/leaflet@1.9.3/dist/leaflet.css&quot;/&gt;\n",
       "    &lt;link rel=&quot;stylesheet&quot; href=&quot;https://cdn.jsdelivr.net/npm/bootstrap@5.2.2/dist/css/bootstrap.min.css&quot;/&gt;\n",
       "    &lt;link rel=&quot;stylesheet&quot; href=&quot;https://netdna.bootstrapcdn.com/bootstrap/3.0.0/css/bootstrap.min.css&quot;/&gt;\n",
       "    &lt;link rel=&quot;stylesheet&quot; href=&quot;https://cdn.jsdelivr.net/npm/@fortawesome/fontawesome-free@6.2.0/css/all.min.css&quot;/&gt;\n",
       "    &lt;link rel=&quot;stylesheet&quot; href=&quot;https://cdnjs.cloudflare.com/ajax/libs/Leaflet.awesome-markers/2.0.2/leaflet.awesome-markers.css&quot;/&gt;\n",
       "    &lt;link rel=&quot;stylesheet&quot; href=&quot;https://cdn.jsdelivr.net/gh/python-visualization/folium/folium/templates/leaflet.awesome.rotate.min.css&quot;/&gt;\n",
       "    \n",
       "            &lt;meta name=&quot;viewport&quot; content=&quot;width=device-width,\n",
       "                initial-scale=1.0, maximum-scale=1.0, user-scalable=no&quot; /&gt;\n",
       "            &lt;style&gt;\n",
       "                #map_03f681e282b24dba7ae0756d84e69b65 {\n",
       "                    position: relative;\n",
       "                    width: 100.0%;\n",
       "                    height: 100.0%;\n",
       "                    left: 0.0%;\n",
       "                    top: 0.0%;\n",
       "                }\n",
       "                .leaflet-container { font-size: 1rem; }\n",
       "            &lt;/style&gt;\n",
       "        \n",
       "&lt;/head&gt;\n",
       "&lt;body&gt;\n",
       "    \n",
       "    \n",
       "            &lt;div class=&quot;folium-map&quot; id=&quot;map_03f681e282b24dba7ae0756d84e69b65&quot; &gt;&lt;/div&gt;\n",
       "        \n",
       "&lt;/body&gt;\n",
       "&lt;script&gt;\n",
       "    \n",
       "    \n",
       "            var map_03f681e282b24dba7ae0756d84e69b65 = L.map(\n",
       "                &quot;map_03f681e282b24dba7ae0756d84e69b65&quot;,\n",
       "                {\n",
       "                    center: [48.864716, 2.349014],\n",
       "                    crs: L.CRS.EPSG3857,\n",
       "                    zoom: 10,\n",
       "                    zoomControl: true,\n",
       "                    preferCanvas: false,\n",
       "                }\n",
       "            );\n",
       "\n",
       "            \n",
       "\n",
       "        \n",
       "    \n",
       "            var tile_layer_c962bc5428212a584c2a9904cadb1492 = L.tileLayer(\n",
       "                &quot;https://{s}.tile.openstreetmap.org/{z}/{x}/{y}.png&quot;,\n",
       "                {&quot;attribution&quot;: &quot;Data by \\u0026copy; \\u003ca target=\\&quot;_blank\\&quot; href=\\&quot;http://openstreetmap.org\\&quot;\\u003eOpenStreetMap\\u003c/a\\u003e, under \\u003ca target=\\&quot;_blank\\&quot; href=\\&quot;http://www.openstreetmap.org/copyright\\&quot;\\u003eODbL\\u003c/a\\u003e.&quot;, &quot;detectRetina&quot;: false, &quot;maxNativeZoom&quot;: 18, &quot;maxZoom&quot;: 18, &quot;minZoom&quot;: 0, &quot;noWrap&quot;: false, &quot;opacity&quot;: 1, &quot;subdomains&quot;: &quot;abc&quot;, &quot;tms&quot;: false}\n",
       "            ).addTo(map_03f681e282b24dba7ae0756d84e69b65);\n",
       "        \n",
       "    \n",
       "            var marker_8ab66fe9d12e130231fc18bf6d314a44 = L.marker(\n",
       "                [48.8482314, 2.3201774],\n",
       "                {}\n",
       "            ).addTo(map_03f681e282b24dba7ae0756d84e69b65);\n",
       "        \n",
       "    \n",
       "            var marker_94e2d1a5604be7c4acc0a934ab3da09b = L.marker(\n",
       "                [48.8484202, 2.3205421],\n",
       "                {}\n",
       "            ).addTo(map_03f681e282b24dba7ae0756d84e69b65);\n",
       "        \n",
       "&lt;/script&gt;\n",
       "&lt;/html&gt;\" style=\"position:absolute;width:100%;height:100%;left:0;top:0;border:none !important;\" allowfullscreen webkitallowfullscreen mozallowfullscreen></iframe></div></div>"
      ],
      "text/plain": [
       "<folium.folium.Map at 0x125ec9030>"
      ]
     },
     "execution_count": 218,
     "metadata": {},
     "output_type": "execute_result"
    }
   ],
   "source": [
    "map_obj = folium.Map(location=[48.864716, 2.349014], zoom_start=10)\n",
    "\n",
    "for loc in coords:\n",
    "    folium.Marker(location=loc).add_to(map_obj)\n",
    "map_obj"
   ]
  },
  {
   "cell_type": "code",
   "execution_count": 31,
   "metadata": {},
   "outputs": [],
   "source": [
    "def get_location(address: str):\n",
    "    if not address:\n",
    "        return None\n",
    "    url = f'https://nominatim.openstreetmap.org/search/{urllib.parse.quote(address)}?format=json'\n",
    "    response = requests.get(url).json()\n",
    "    return response"
   ]
  },
  {
   "cell_type": "code",
   "execution_count": 121,
   "metadata": {},
   "outputs": [],
   "source": [
    "counter_df = df.groupby(\"name\").agg({\"coordinates\": \"first\", \"counter\": \"first\"}).reset_index()"
   ]
  },
  {
   "cell_type": "code",
   "execution_count": 123,
   "metadata": {},
   "outputs": [
    {
     "name": "stdout",
     "output_type": "stream",
     "text": [
      "Pont Charles De Gaulle\n",
      "Pont National\n",
      "Pont de Bercy\n",
      "Pont de la Concorde\n",
      "Pont des Invalides\n",
      "Pont du Garigliano\n",
      "Quai d'Orsay\n",
      "Quai des Tuileries\n",
      "Totem Cours la Reine\n",
      "Voie Georges Pompidou\n"
     ]
    }
   ],
   "source": [
    "addresses = []\n",
    "for idx, row in counter_df.iterrows():\n",
    "    address = row[\"name\"]\n",
    "    num_index = re.search(r\"\\d\", address)\n",
    "    numbers = re.findall('[0-9]+', address)\n",
    "\n",
    "    if len(numbers) != 1:\n",
    "        print(address)\n",
    "        continue\n",
    "\n",
    "    number = numbers[0]\n",
    "    address_without_number = address[num_index.start()+len(number)+1:]\n",
    "    \n",
    "    counter_df.loc[idx, \"number\"] = int(number)\n",
    "    counter_df.loc[idx, \"street\"] = address_without_number"
   ]
  },
  {
   "cell_type": "code",
   "execution_count": 163,
   "metadata": {},
   "outputs": [],
   "source": [
    "counter_df = counter_df[:66]"
   ]
  },
  {
   "cell_type": "code",
   "execution_count": 169,
   "metadata": {},
   "outputs": [],
   "source": [
    "counter_df = counter_df.loc[counter_df.number.dropna().index]"
   ]
  },
  {
   "cell_type": "code",
   "execution_count": 170,
   "metadata": {},
   "outputs": [
    {
     "name": "stderr",
     "output_type": "stream",
     "text": [
      "58it [00:07,  8.11it/s]\n"
     ]
    }
   ],
   "source": [
    "paths_to_analyze = []\n",
    "for idx, row in tqdm(counter_df.iterrows()):\n",
    "    if not row.hasnans:\n",
    "        continue\n",
    "    street = row.street\n",
    "    number = row.number\n",
    "    \n",
    "    start = f\"1 {street}, Paris\"\n",
    "    end = f\"{int(number) + 50} {street}, Paris\"\n",
    "    try:\n",
    "        start_loc = get_location(start)[0]\n",
    "        end_loc = get_location(end)[0]\n",
    "    except Exception as e:\n",
    "        continue\n",
    "    \n",
    "    counter_df.loc[idx, \"start_address\"] = start\n",
    "    counter_df.loc[idx, \"start_loc\"] = f'{start_loc[\"lat\"]},{start_loc[\"lon\"]}'\n",
    "\n",
    "    counter_df.loc[idx, \"end_address\"] = end\n",
    "    counter_df.loc[idx, \"end_loc\"] = f'{end_loc[\"lat\"]},{end_loc[\"lon\"]}'"
   ]
  },
  {
   "cell_type": "code",
   "execution_count": 173,
   "metadata": {},
   "outputs": [],
   "source": [
    "final_counter_df = counter_df.dropna()"
   ]
  },
  {
   "cell_type": "code",
   "execution_count": 174,
   "metadata": {},
   "outputs": [],
   "source": [
    "final_counter_df.to_csv(\"data/counter_infos.csv\")"
   ]
  },
  {
   "cell_type": "code",
   "execution_count": null,
   "metadata": {},
   "outputs": [],
   "source": [
    "def floatify(str_coord):\n",
    "    x, y = str_coord.split(\",\")\n",
    "    return float(x), float(y)"
   ]
  },
  {
   "cell_type": "code",
   "execution_count": 186,
   "metadata": {},
   "outputs": [
    {
     "data": {
      "text/html": [
       "<div style=\"width:100%;\"><div style=\"position:relative;width:100%;height:0;padding-bottom:60%;\"><span style=\"color:#565656\">Make this Notebook Trusted to load map: File -> Trust Notebook</span><iframe srcdoc=\"&lt;!DOCTYPE html&gt;\n",
       "&lt;html&gt;\n",
       "&lt;head&gt;\n",
       "    \n",
       "    &lt;meta http-equiv=&quot;content-type&quot; content=&quot;text/html; charset=UTF-8&quot; /&gt;\n",
       "    \n",
       "        &lt;script&gt;\n",
       "            L_NO_TOUCH = false;\n",
       "            L_DISABLE_3D = false;\n",
       "        &lt;/script&gt;\n",
       "    \n",
       "    &lt;style&gt;html, body {width: 100%;height: 100%;margin: 0;padding: 0;}&lt;/style&gt;\n",
       "    &lt;style&gt;#map {position:absolute;top:0;bottom:0;right:0;left:0;}&lt;/style&gt;\n",
       "    &lt;script src=&quot;https://cdn.jsdelivr.net/npm/leaflet@1.9.3/dist/leaflet.js&quot;&gt;&lt;/script&gt;\n",
       "    &lt;script src=&quot;https://code.jquery.com/jquery-1.12.4.min.js&quot;&gt;&lt;/script&gt;\n",
       "    &lt;script src=&quot;https://cdn.jsdelivr.net/npm/bootstrap@5.2.2/dist/js/bootstrap.bundle.min.js&quot;&gt;&lt;/script&gt;\n",
       "    &lt;script src=&quot;https://cdnjs.cloudflare.com/ajax/libs/Leaflet.awesome-markers/2.0.2/leaflet.awesome-markers.js&quot;&gt;&lt;/script&gt;\n",
       "    &lt;link rel=&quot;stylesheet&quot; href=&quot;https://cdn.jsdelivr.net/npm/leaflet@1.9.3/dist/leaflet.css&quot;/&gt;\n",
       "    &lt;link rel=&quot;stylesheet&quot; href=&quot;https://cdn.jsdelivr.net/npm/bootstrap@5.2.2/dist/css/bootstrap.min.css&quot;/&gt;\n",
       "    &lt;link rel=&quot;stylesheet&quot; href=&quot;https://netdna.bootstrapcdn.com/bootstrap/3.0.0/css/bootstrap.min.css&quot;/&gt;\n",
       "    &lt;link rel=&quot;stylesheet&quot; href=&quot;https://cdn.jsdelivr.net/npm/@fortawesome/fontawesome-free@6.2.0/css/all.min.css&quot;/&gt;\n",
       "    &lt;link rel=&quot;stylesheet&quot; href=&quot;https://cdnjs.cloudflare.com/ajax/libs/Leaflet.awesome-markers/2.0.2/leaflet.awesome-markers.css&quot;/&gt;\n",
       "    &lt;link rel=&quot;stylesheet&quot; href=&quot;https://cdn.jsdelivr.net/gh/python-visualization/folium/folium/templates/leaflet.awesome.rotate.min.css&quot;/&gt;\n",
       "    \n",
       "            &lt;meta name=&quot;viewport&quot; content=&quot;width=device-width,\n",
       "                initial-scale=1.0, maximum-scale=1.0, user-scalable=no&quot; /&gt;\n",
       "            &lt;style&gt;\n",
       "                #map_0d14bab2c6e9563f6020049f0bf563a5 {\n",
       "                    position: relative;\n",
       "                    width: 100.0%;\n",
       "                    height: 100.0%;\n",
       "                    left: 0.0%;\n",
       "                    top: 0.0%;\n",
       "                }\n",
       "                .leaflet-container { font-size: 1rem; }\n",
       "            &lt;/style&gt;\n",
       "        \n",
       "&lt;/head&gt;\n",
       "&lt;body&gt;\n",
       "    \n",
       "    \n",
       "            &lt;div class=&quot;folium-map&quot; id=&quot;map_0d14bab2c6e9563f6020049f0bf563a5&quot; &gt;&lt;/div&gt;\n",
       "        \n",
       "&lt;/body&gt;\n",
       "&lt;script&gt;\n",
       "    \n",
       "    \n",
       "            var map_0d14bab2c6e9563f6020049f0bf563a5 = L.map(\n",
       "                &quot;map_0d14bab2c6e9563f6020049f0bf563a5&quot;,\n",
       "                {\n",
       "                    center: [48.864716, 2.349014],\n",
       "                    crs: L.CRS.EPSG3857,\n",
       "                    zoom: 13,\n",
       "                    zoomControl: true,\n",
       "                    preferCanvas: false,\n",
       "                }\n",
       "            );\n",
       "\n",
       "            \n",
       "\n",
       "        \n",
       "    \n",
       "            var tile_layer_20ebefa73525f75ff3a7603b25b39b75 = L.tileLayer(\n",
       "                &quot;https://{s}.tile.openstreetmap.org/{z}/{x}/{y}.png&quot;,\n",
       "                {&quot;attribution&quot;: &quot;Data by \\u0026copy; \\u003ca target=\\&quot;_blank\\&quot; href=\\&quot;http://openstreetmap.org\\&quot;\\u003eOpenStreetMap\\u003c/a\\u003e, under \\u003ca target=\\&quot;_blank\\&quot; href=\\&quot;http://www.openstreetmap.org/copyright\\&quot;\\u003eODbL\\u003c/a\\u003e.&quot;, &quot;detectRetina&quot;: false, &quot;maxNativeZoom&quot;: 18, &quot;maxZoom&quot;: 18, &quot;minZoom&quot;: 0, &quot;noWrap&quot;: false, &quot;opacity&quot;: 1, &quot;subdomains&quot;: &quot;abc&quot;, &quot;tms&quot;: false}\n",
       "            ).addTo(map_0d14bab2c6e9563f6020049f0bf563a5);\n",
       "        \n",
       "    \n",
       "            var marker_1d926d780cb859f27356b07c3e657537 = L.marker(\n",
       "                [48.86999, 2.30722],\n",
       "                {}\n",
       "            ).addTo(map_0d14bab2c6e9563f6020049f0bf563a5);\n",
       "        \n",
       "    \n",
       "        var popup_89cd009aef047605c81df2d4b0debfa8 = L.popup({&quot;maxWidth&quot;: &quot;100%&quot;});\n",
       "\n",
       "        \n",
       "            \n",
       "                var html_eec028e7b17396ef77f95e42aeb99598 = $(`&lt;div id=&quot;html_eec028e7b17396ef77f95e42aeb99598&quot; style=&quot;width: 100.0%; height: 100.0%;&quot;&gt;COUNTER&lt;/div&gt;`)[0];\n",
       "                popup_89cd009aef047605c81df2d4b0debfa8.setContent(html_eec028e7b17396ef77f95e42aeb99598);\n",
       "            \n",
       "        \n",
       "\n",
       "        marker_1d926d780cb859f27356b07c3e657537.bindPopup(popup_89cd009aef047605c81df2d4b0debfa8)\n",
       "        ;\n",
       "\n",
       "        \n",
       "    \n",
       "    \n",
       "            var marker_8dbe948d5ade657ea89f39e4e0ffc2f0 = L.marker(\n",
       "                [48.8660075, 2.3198382],\n",
       "                {}\n",
       "            ).addTo(map_0d14bab2c6e9563f6020049f0bf563a5);\n",
       "        \n",
       "    \n",
       "        var popup_adbad00f59ede33558a3df353b8a1f67 = L.popup({&quot;maxWidth&quot;: &quot;100%&quot;});\n",
       "\n",
       "        \n",
       "            \n",
       "                var html_043682dd8b795514eee6201d47a59358 = $(`&lt;div id=&quot;html_043682dd8b795514eee6201d47a59358&quot; style=&quot;width: 100.0%; height: 100.0%;&quot;&gt;END&lt;/div&gt;`)[0];\n",
       "                popup_adbad00f59ede33558a3df353b8a1f67.setContent(html_043682dd8b795514eee6201d47a59358);\n",
       "            \n",
       "        \n",
       "\n",
       "        marker_8dbe948d5ade657ea89f39e4e0ffc2f0.bindPopup(popup_adbad00f59ede33558a3df353b8a1f67)\n",
       "        ;\n",
       "\n",
       "        \n",
       "    \n",
       "    \n",
       "            var marker_0ee4b86b1c7d12d3b938b6e35a43e67a = L.marker(\n",
       "                [48.8694701, 2.3085165],\n",
       "                {}\n",
       "            ).addTo(map_0d14bab2c6e9563f6020049f0bf563a5);\n",
       "        \n",
       "    \n",
       "        var popup_d1536baf37f976f664282823ea4ae64e = L.popup({&quot;maxWidth&quot;: &quot;100%&quot;});\n",
       "\n",
       "        \n",
       "            \n",
       "                var html_a3a05857841340fa026b65ce96a4e2de = $(`&lt;div id=&quot;html_a3a05857841340fa026b65ce96a4e2de&quot; style=&quot;width: 100.0%; height: 100.0%;&quot;&gt;START&lt;/div&gt;`)[0];\n",
       "                popup_d1536baf37f976f664282823ea4ae64e.setContent(html_a3a05857841340fa026b65ce96a4e2de);\n",
       "            \n",
       "        \n",
       "\n",
       "        marker_0ee4b86b1c7d12d3b938b6e35a43e67a.bindPopup(popup_d1536baf37f976f664282823ea4ae64e)\n",
       "        ;\n",
       "\n",
       "        \n",
       "    \n",
       "&lt;/script&gt;\n",
       "&lt;/html&gt;\" style=\"position:absolute;width:100%;height:100%;left:0;top:0;border:none !important;\" allowfullscreen webkitallowfullscreen mozallowfullscreen></iframe></div></div>"
      ],
      "text/plain": [
       "<folium.folium.Map at 0x125cf1b10>"
      ]
     },
     "execution_count": 186,
     "metadata": {},
     "output_type": "execute_result"
    }
   ],
   "source": [
    "row = final_counter_df.iloc[24]\n",
    "map_obj = folium.Map(location=[48.864716, 2.349014], zoom_start=13)\n",
    "\n",
    "folium.Marker(location=floatify(row.coordinates), popup=\"COUNTER\").add_to(map_obj)\n",
    "folium.Marker(location=floatify(row.end_loc), popup=\"END\").add_to(map_obj)\n",
    "folium.Marker(location=floatify(row.start_loc), popup=\"START\").add_to(map_obj)\n",
    "map_obj"
   ]
  },
  {
   "cell_type": "code",
   "execution_count": 215,
   "metadata": {},
   "outputs": [],
   "source": [
    "for idx, row in final_counter_df.iterrows():\n",
    "    df_counter = df[df.counter == row.counter]\n",
    "    df_counter = df_counter[df_counter.date.dt.hour > 5]\n",
    "    yearly_passage = round(\n",
    "            df_counter.groupby([\"date\", \"counter\"]).agg({\"sum_counts\": \"sum\"}).mean()*24*365\n",
    "        ).loc[\"sum_counts\"]\n",
    "    final_counter_df.loc[idx, \"yearly_passage\"] = yearly_passage"
   ]
  },
  {
   "cell_type": "code",
   "execution_count": 217,
   "metadata": {},
   "outputs": [],
   "source": [
    "final_counter_df.to_csv(\"data/counter_infos.csv\")"
   ]
  },
  {
   "cell_type": "code",
   "execution_count": null,
   "metadata": {},
   "outputs": [],
   "source": []
  }
 ],
 "metadata": {
  "kernelspec": {
   "display_name": "Python 3 (ipykernel)",
   "language": "python",
   "name": "python3"
  },
  "language_info": {
   "codemirror_mode": {
    "name": "ipython",
    "version": 3
   },
   "file_extension": ".py",
   "mimetype": "text/x-python",
   "name": "python",
   "nbconvert_exporter": "python",
   "pygments_lexer": "ipython3",
   "version": "3.10.8"
  },
  "vscode": {
   "interpreter": {
    "hash": "aee8b7b246df8f9039afb4144a1f6fd8d2ca17a180786b69acc140d282b71a49"
   }
  }
 },
 "nbformat": 4,
 "nbformat_minor": 4
}
